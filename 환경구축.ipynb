{
 "cells": [
  {
   "cell_type": "markdown",
   "id": "67c14adc",
   "metadata": {},
   "source": [
    "print(1+1)\n",
    "print(1+2)"
   ]
  },
  {
   "cell_type": "code",
   "execution_count": 4,
   "id": "f81e4e52",
   "metadata": {},
   "outputs": [
    {
     "data": {
      "text/plain": [
       "2"
      ]
     },
     "execution_count": 4,
     "metadata": {},
     "output_type": "execute_result"
    }
   ],
   "source": [
    "# 이 코드는 1+1을 출력하는 코드입니다.\n",
    "1+2\n",
    "1+1"
   ]
  },
  {
   "cell_type": "markdown",
   "id": "cb1a6bfe",
   "metadata": {},
   "source": [
    "환경 구축을 지금부터 시작할 거예요!"
   ]
  },
  {
   "cell_type": "markdown",
   "id": "2f5fa987",
   "metadata": {},
   "source": [
    "# Heading\n",
    "## Heading 2\n",
    "### Heading 3\n",
    "\n",
    "\n",
    "- Bulleted List\n",
    "    - Bulleted List\n",
    "1. Numbered List\n",
    "\n",
    "    \n",
    "   A. Numbered List\n",
    "\n",
    "**Emphasis**\n",
    "*Italic*"
   ]
  },
  {
   "cell_type": "code",
   "execution_count": null,
   "id": "31d2a4ab",
   "metadata": {},
   "outputs": [],
   "source": []
  },
  {
   "cell_type": "code",
   "execution_count": null,
   "id": "876afeaf",
   "metadata": {},
   "outputs": [],
   "source": []
  },
  {
   "cell_type": "code",
   "execution_count": 6,
   "id": "12d788d7",
   "metadata": {},
   "outputs": [
    {
     "name": "stdout",
     "output_type": "stream",
     "text": [
      "2\n"
     ]
    },
    {
     "data": {
      "text/plain": [
       "3"
      ]
     },
     "execution_count": 6,
     "metadata": {},
     "output_type": "execute_result"
    }
   ],
   "source": [
    "print(1+1)\n",
    "1+2"
   ]
  },
  {
   "cell_type": "code",
   "execution_count": 7,
   "id": "4862b27e",
   "metadata": {
    "scrolled": true
   },
   "outputs": [
    {
     "name": "stdout",
     "output_type": "stream",
     "text": [
      "2\n"
     ]
    },
    {
     "data": {
      "text/plain": [
       "3"
      ]
     },
     "execution_count": 7,
     "metadata": {},
     "output_type": "execute_result"
    }
   ],
   "source": [
    "print(1+1)\n",
    "1+2"
   ]
  },
  {
   "cell_type": "code",
   "execution_count": 8,
   "id": "88eb84c4",
   "metadata": {},
   "outputs": [],
   "source": [
    "from IPython.display import Image"
   ]
  },
  {
   "cell_type": "code",
   "execution_count": 10,
   "id": "0d5cb55e",
   "metadata": {},
   "outputs": [
    {
     "data": {
      "text/html": [
       "<img src=\"data:image/jpeg;base64,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\" width=\"400\" height=\"300\"/>"
      ],
      "text/plain": [
       "<IPython.core.display.Image object>"
      ]
     },
     "execution_count": 10,
     "metadata": {},
     "output_type": "execute_result"
    }
   ],
   "source": [
    "Image(url = \"data:image/jpeg;base64,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\" , width = 400, height =300)"
   ]
  },
  {
   "cell_type": "code",
   "execution_count": 11,
   "id": "2fbbb1ba",
   "metadata": {},
   "outputs": [],
   "source": [
    "from IPython.display import Image"
   ]
  },
  {
   "cell_type": "code",
   "execution_count": 19,
   "id": "346ee805",
   "metadata": {},
   "outputs": [
    {
     "data": {
      "text/html": [
       "<img src=\"https://encrypted-tbn0.gstatic.com/images?q=tbn:ANd9GcRq05UJsAFtrLW3UjHYn3RS8yhotkpICC_AFA&usqp=CAU\" width=\"500\" height=\"500\"/>"
      ],
      "text/plain": [
       "<IPython.core.display.Image object>"
      ]
     },
     "execution_count": 19,
     "metadata": {},
     "output_type": "execute_result"
    }
   ],
   "source": [
    "Image(url = \"https://encrypted-tbn0.gstatic.com/images?q=tbn:ANd9GcRq05UJsAFtrLW3UjHYn3RS8yhotkpICC_AFA&usqp=CAU\", width = 500, height = 500)"
   ]
  },
  {
   "cell_type": "code",
   "execution_count": 15,
   "id": "accdadf0",
   "metadata": {},
   "outputs": [],
   "source": [
    "from IPython.lib.display import YouTubeVideo"
   ]
  },
  {
   "cell_type": "code",
   "execution_count": 16,
   "id": "ed6577be",
   "metadata": {},
   "outputs": [
    {
     "data": {
      "image/jpeg": "[encoded data removed]",
      "text/html": [
       "\n",
       "        <iframe\n",
       "            width=\"800\"\n",
       "            height=\"600\"\n",
       "            src=\"https://www.youtube.com/embed/I5cq54MFQCo\"\n",
       "            frameborder=\"0\"\n",
       "            allowfullscreen\n",
       "            \n",
       "        ></iframe>\n",
       "        "
      ],
      "text/plain": [
       "<IPython.lib.display.YouTubeVideo at 0x1b6e0612eb0>"
      ]
     },
     "execution_count": 16,
     "metadata": {},
     "output_type": "execute_result"
    }
   ],
   "source": [
    "YouTubeVideo('I5cq54MFQCo', width = 800, height = 600)"
   ]
  },
  {
   "cell_type": "code",
   "execution_count": 17,
   "id": "9de8ab1c",
   "metadata": {},
   "outputs": [],
   "source": [
    "from IPython.lib.display import YouTubeVideo"
   ]
  },
  {
   "cell_type": "code",
   "execution_count": null,
   "id": "3e34f696",
   "metadata": {},
   "outputs": [],
   "source": []
  },
  {
   "cell_type": "code",
   "execution_count": 20,
   "id": "8f48c9fa",
   "metadata": {},
   "outputs": [],
   "source": [
    "import antigravity "
   ]
  },
  {
   "cell_type": "code",
   "execution_count": null,
   "id": "b2773698",
   "metadata": {},
   "outputs": [],
   "source": [
    "z"
   ]
  },
  {
   "cell_type": "code",
   "execution_count": 33,
   "id": "9770486e",
   "metadata": {},
   "outputs": [
    {
     "data": {
      "text/plain": [
       "3"
      ]
     },
     "execution_count": 33,
     "metadata": {},
     "output_type": "execute_result"
    }
   ],
   "source": [
    "num = -3\n",
    "num = 3\n",
    "num"
   ]
  },
  {
   "cell_type": "code",
   "execution_count": 34,
   "id": "35ee11d8",
   "metadata": {},
   "outputs": [
    {
     "data": {
      "text/plain": [
       "6"
      ]
     },
     "execution_count": 34,
     "metadata": {},
     "output_type": "execute_result"
    }
   ],
   "source": [
    "num + 3"
   ]
  },
  {
   "cell_type": "code",
   "execution_count": 35,
   "id": "5d150996",
   "metadata": {},
   "outputs": [
    {
     "data": {
      "text/plain": [
       "int"
      ]
     },
     "execution_count": 35,
     "metadata": {},
     "output_type": "execute_result"
    }
   ],
   "source": [
    "type(num)"
   ]
  },
  {
   "cell_type": "code",
   "execution_count": 36,
   "id": "2c660743",
   "metadata": {},
   "outputs": [
    {
     "data": {
      "text/plain": [
       "'num'"
      ]
     },
     "execution_count": 36,
     "metadata": {},
     "output_type": "execute_result"
    }
   ],
   "source": [
    "num = 'num'\n",
    "num"
   ]
  },
  {
   "cell_type": "code",
   "execution_count": 37,
   "id": "001b8c32",
   "metadata": {},
   "outputs": [
    {
     "data": {
      "text/plain": [
       "str"
      ]
     },
     "execution_count": 37,
     "metadata": {},
     "output_type": "execute_result"
    }
   ],
   "source": [
    "type('num')"
   ]
  },
  {
   "cell_type": "code",
   "execution_count": 38,
   "id": "106c9e86",
   "metadata": {},
   "outputs": [
    {
     "data": {
      "text/plain": [
       "1.0"
      ]
     },
     "execution_count": 38,
     "metadata": {},
     "output_type": "execute_result"
    }
   ],
   "source": [
    "distance = 10\n",
    "velocity = 10\n",
    "time = distance/velocity\n",
    "time"
   ]
  },
  {
   "cell_type": "code",
   "execution_count": 42,
   "id": "63368183",
   "metadata": {},
   "outputs": [
    {
     "name": "stdout",
     "output_type": "stream",
     "text": [
      "25\n"
     ]
    }
   ],
   "source": [
    "a = 10\n",
    "b = 15\n",
    "c = a+b\n",
    "print(c)"
   ]
  },
  {
   "cell_type": "code",
   "execution_count": 43,
   "id": "61443cc5",
   "metadata": {},
   "outputs": [
    {
     "name": "stdout",
     "output_type": "stream",
     "text": [
      "25\n"
     ]
    }
   ],
   "source": [
    "a, b = 10, 15\n",
    "c = a + b\n",
    "print(c)"
   ]
  },
  {
   "cell_type": "code",
   "execution_count": 49,
   "id": "2aba42db",
   "metadata": {
    "scrolled": true
   },
   "outputs": [
    {
     "name": "stdout",
     "output_type": "stream",
     "text": [
      "hello python hello python\n"
     ]
    }
   ],
   "source": [
    "str1 = str2 = \"hello python\"\n",
    "print (str1, str2)"
   ]
  },
  {
   "cell_type": "code",
   "execution_count": 50,
   "id": "c5d87b65",
   "metadata": {},
   "outputs": [
    {
     "data": {
      "text/plain": [
       "\"철수는 '6시에 집에 간다'고 했다\""
      ]
     },
     "execution_count": 50,
     "metadata": {},
     "output_type": "execute_result"
    }
   ],
   "source": [
    "\"철수는 '6시에 집에 간다'고 했다\""
   ]
  },
  {
   "cell_type": "code",
   "execution_count": 51,
   "id": "9fa76b8b",
   "metadata": {},
   "outputs": [
    {
     "data": {
      "text/plain": [
       "\"she's gone\""
      ]
     },
     "execution_count": 51,
     "metadata": {},
     "output_type": "execute_result"
    }
   ],
   "source": [
    "\"she's gone\""
   ]
  },
  {
   "cell_type": "code",
   "execution_count": 52,
   "id": "dc111b4f",
   "metadata": {},
   "outputs": [
    {
     "name": "stdout",
     "output_type": "stream",
     "text": [
      "He said, \"she's gone\"\n"
     ]
    }
   ],
   "source": [
    "print('He said, \"she\\'s gone\"')"
   ]
  },
  {
   "cell_type": "code",
   "execution_count": 53,
   "id": "86c99cc9",
   "metadata": {},
   "outputs": [],
   "source": [
    "sentence = \"My name is Sohyun\""
   ]
  },
  {
   "cell_type": "code",
   "execution_count": 59,
   "id": "0e42f3ca",
   "metadata": {},
   "outputs": [
    {
     "data": {
      "text/plain": [
       "'name'"
      ]
     },
     "execution_count": 59,
     "metadata": {},
     "output_type": "execute_result"
    }
   ],
   "source": [
    "sentence[3:7]"
   ]
  },
  {
   "cell_type": "code",
   "execution_count": 61,
   "id": "a4cd6adb",
   "metadata": {},
   "outputs": [
    {
     "data": {
      "text/plain": [
       "'Sohyun'"
      ]
     },
     "execution_count": 61,
     "metadata": {},
     "output_type": "execute_result"
    }
   ],
   "source": [
    "sentence[11:18]"
   ]
  },
  {
   "cell_type": "code",
   "execution_count": 70,
   "id": "e2bdbb0c",
   "metadata": {},
   "outputs": [
    {
     "data": {
      "text/plain": [
       "'is'"
      ]
     },
     "execution_count": 70,
     "metadata": {},
     "output_type": "execute_result"
    }
   ],
   "source": [
    "sentence[-9:-7]"
   ]
  },
  {
   "cell_type": "code",
   "execution_count": 71,
   "id": "49593d02",
   "metadata": {},
   "outputs": [
    {
     "data": {
      "text/plain": [
       "'Sohyun'"
      ]
     },
     "execution_count": 71,
     "metadata": {},
     "output_type": "execute_result"
    }
   ],
   "source": [
    "sentence[-6:]"
   ]
  },
  {
   "cell_type": "code",
   "execution_count": 74,
   "id": "34a3fca9",
   "metadata": {},
   "outputs": [
    {
     "data": {
      "text/plain": [
       "'My name'"
      ]
     },
     "execution_count": 74,
     "metadata": {},
     "output_type": "execute_result"
    }
   ],
   "source": [
    "sentence[:7]"
   ]
  },
  {
   "cell_type": "markdown",
   "id": "c4e1739c",
   "metadata": {},
   "source": [
    " - 날씨 정보를 받습니다.\n",
    "\n",
    "1. 20220809Sunny\n",
    "2. 20220810Cloudy\n",
    "3. 20220811Fog\n",
    "\n",
    " - 이 정보들을 연도 / 월 / 일 / 날씨 변수로 쪼개서 저장하고 싶습니다.\n",
    " - 어떤 날씨 정보가 오든지, 연 / 월 / 일 / 날씨를 변함없이 지칭하는 슬라이싱 코드를 짜봅시다."
   ]
  },
  {
   "cell_type": "code",
   "execution_count": 1,
   "id": "2893992e",
   "metadata": {},
   "outputs": [
    {
     "name": "stdout",
     "output_type": "stream",
     "text": [
      "2022\n",
      "08\n",
      "09\n",
      "Sunny\n"
     ]
    }
   ],
   "source": [
    "weather_info = \"20220809Sunny\"\n",
    "# weather_info = \"20220810Cloudy\"\n",
    "# weather_info = \"20220811Fog\"\n",
    "\n",
    "\n",
    "year = weather_info[:4]\n",
    "month = weather_info[4:6]\n",
    "day = weather_info[6:8]\n",
    "weather = weather_info[8:]\n",
    "\n",
    "print(year)\n",
    "print(month)\n",
    "print(day)\n",
    "print(weather)"
   ]
  },
  {
   "cell_type": "markdown",
   "id": "9182f2f9",
   "metadata": {},
   "source": []
  },
  {
   "cell_type": "code",
   "execution_count": null,
   "id": "f92434ca",
   "metadata": {},
   "outputs": [],
   "source": []
  }
 ],
 "metadata": {
  "kernelspec": {
   "display_name": "Python 3 (ipykernel)",
   "language": "python",
   "name": "python3"
  },
  "language_info": {
   "codemirror_mode": {
    "name": "ipython",
    "version": 3
   },
   "file_extension": ".py",
   "mimetype": "text/x-python",
   "name": "python",
   "nbconvert_exporter": "python",
   "pygments_lexer": "ipython3",
   "version": "3.9.12"
  }
 },
 "nbformat": 4,
 "nbformat_minor": 5
}
