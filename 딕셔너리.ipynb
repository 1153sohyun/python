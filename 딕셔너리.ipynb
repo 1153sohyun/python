{
 "cells": [
  {
   "cell_type": "code",
   "execution_count": 9,
   "id": "d03fb17b",
   "metadata": {},
   "outputs": [],
   "source": [
    "csb = {\"이름\" : \"홍길동\", \"나이\" : 20, \"키\" : 168}\n",
    "\n",
    "class1_4 = {\"이름\" : [\"홍길동\", \"김철수\", \"최영희\"],\n",
    "            \"나이\" : [20, 21, 22],\n",
    "            \"키\" : [168, 177, 204]}"
   ]
  },
  {
   "cell_type": "code",
   "execution_count": 10,
   "id": "5eebc84d",
   "metadata": {},
   "outputs": [
    {
     "data": {
      "text/plain": [
       "['홍길동', '김철수', '최영희']"
      ]
     },
     "execution_count": 10,
     "metadata": {},
     "output_type": "execute_result"
    }
   ],
   "source": [
    "class1_4[\"이름\"]"
   ]
  },
  {
   "cell_type": "code",
   "execution_count": 11,
   "id": "6b1ac902",
   "metadata": {},
   "outputs": [
    {
     "data": {
      "text/plain": [
       "{'이름': ['홍길동', '김철수', '최영희'],\n",
       " '나이': [20, 21, 22],\n",
       " '키': [168, 177, 204],\n",
       " '발 사이즈': [290, 275, 240]}"
      ]
     },
     "execution_count": 11,
     "metadata": {},
     "output_type": "execute_result"
    }
   ],
   "source": [
    "class1_4[\"발 사이즈\"] = [290, 275, 240]\n",
    "class1_4"
   ]
  },
  {
   "cell_type": "code",
   "execution_count": 12,
   "id": "39b20a45",
   "metadata": {},
   "outputs": [
    {
     "data": {
      "text/plain": [
       "{'이름': ['홍길동', '김철수', '최영희'], '나이': [20, 21, 22], '키': [168, 177, 204]}"
      ]
     },
     "execution_count": 12,
     "metadata": {},
     "output_type": "execute_result"
    }
   ],
   "source": [
    "del class1_4[\"발 사이즈\"]\n",
    "class1_4"
   ]
  },
  {
   "cell_type": "code",
   "execution_count": null,
   "id": "9f615699",
   "metadata": {},
   "outputs": [],
   "source": [
    "class1_4.keys()"
   ]
  },
  {
   "cell_type": "code",
   "execution_count": 13,
   "id": "a7ce21e5",
   "metadata": {},
   "outputs": [
    {
     "data": {
      "text/plain": [
       "dict_values([['홍길동', '김철수', '최영희'], [20, 21, 22], [168, 177, 204]])"
      ]
     },
     "execution_count": 13,
     "metadata": {},
     "output_type": "execute_result"
    }
   ],
   "source": [
    "class1_4.values()"
   ]
  },
  {
   "cell_type": "code",
   "execution_count": 14,
   "id": "6ab93bc3",
   "metadata": {},
   "outputs": [
    {
     "name": "stdout",
     "output_type": "stream",
     "text": [
      "이름\n",
      "나이\n",
      "키\n"
     ]
    }
   ],
   "source": [
    "for i in class1_4:\n",
    "    print(i)"
   ]
  },
  {
   "cell_type": "markdown",
   "id": "87adb977",
   "metadata": {},
   "source": [
    "### classs1 4의 \"이름\" key에 할당된 value들을 전부 성을 뺀 이름들로 출력하고 싶습니다.\n",
    "\n",
    "- 홍길동 > 길동\n",
    "- 김철수 > 쳘수\n",
    "- 김영희 > 영희"
   ]
  },
  {
   "cell_type": "code",
   "execution_count": 20,
   "id": "9b6aae3f",
   "metadata": {
    "scrolled": true
   },
   "outputs": [
    {
     "data": {
      "text/plain": [
       "{'이름': ['길동', '철수', '영희'], '나이': [20, 21, 22], '키': [168, 177, 204]}"
      ]
     },
     "execution_count": 20,
     "metadata": {},
     "output_type": "execute_result"
    }
   ],
   "source": [
    "new_name = []\n",
    "for i in class1_4[\"이름\"]:\n",
    "    new_name.append(i[1:])\n",
    "class1_4[\"이름\"] = new_name\n",
    "class1_4"
   ]
  },
  {
   "cell_type": "code",
   "execution_count": 21,
   "id": "254c18f6",
   "metadata": {},
   "outputs": [
    {
     "data": {
      "text/plain": [
       "[0, 1, 4, 9, 16, 25, 36, 49, 64, 81]"
      ]
     },
     "execution_count": 21,
     "metadata": {},
     "output_type": "execute_result"
    }
   ],
   "source": [
    "jegop = [i**2 for i in range(10)]\n",
    "jegop"
   ]
  },
  {
   "cell_type": "code",
   "execution_count": 22,
   "id": "646f454b",
   "metadata": {},
   "outputs": [
    {
     "data": {
      "text/plain": [
       "[0, 1, 4, 9, 16, 25, 36, 49, 64, 81]"
      ]
     },
     "execution_count": 22,
     "metadata": {},
     "output_type": "execute_result"
    }
   ],
   "source": [
    "[i**2 for i in range(10)]"
   ]
  },
  {
   "cell_type": "markdown",
   "id": "d960cc2e",
   "metadata": {},
   "source": [
    "- 여러 학생의 성적 점수가 다음과 같은 Dictionary로 구성되어 있다."
   ]
  },
  {
   "cell_type": "code",
   "execution_count": 23,
   "id": "82bf51fa",
   "metadata": {},
   "outputs": [],
   "source": [
    "scores = {'홍길동':{'수학':99, '영어':80, '국어':75},\n",
    "          '김미정':{'영어':67, '국어':87, '수학':55},\n",
    "          '정수진':{'수학':67, '국어':41, '영어':23}}"
   ]
  },
  {
   "cell_type": "markdown",
   "id": "cdb6ef38",
   "metadata": {},
   "source": [
    "- 이 때, 학생들의 평균을 저장하는 새로운 항목을 추가하고 싶다.\n",
    "- scores에 학생들의 수학, 영어, 국어 평균 성적을 기록한 \"성적\" 정보를 추가해주세요."
   ]
  },
  {
   "cell_type": "code",
   "execution_count": 35,
   "id": "48a13822",
   "metadata": {},
   "outputs": [
    {
     "data": {
      "text/plain": [
       "{'홍길동': {'수학': 99, '영어': 80, '국어': 75},\n",
       " '김미정': {'영어': 67, '국어': 87, '수학': 55},\n",
       " '정수진': {'수학': 67, '국어': 41, '영어': 23},\n",
       " '평균 점수': {'국어': 67.66666666666667,\n",
       "  '영어': 56.666666666666664,\n",
       "  '수학': 73.66666666666667}}"
      ]
     },
     "execution_count": 35,
     "metadata": {},
     "output_type": "execute_result"
    }
   ],
   "source": [
    "math = 0\n",
    "eng = 0\n",
    "kor = 0\n",
    "for i in scores:\n",
    "    math = math + scores[i][\"수학\"]\n",
    "    eng = eng + scores[i][\"영어\"]\n",
    "    kor = kor + scores[i][\"국어\"]\n",
    "    \n",
    "scores[\"평균 점수\"] = {\"국어\" : kor/len(scores), \"영어\" : eng/len(scores), \"수학\" : math/len(scores)}\n",
    "scores"
   ]
  },
  {
   "cell_type": "code",
   "execution_count": 37,
   "id": "821aea03",
   "metadata": {},
   "outputs": [
    {
     "data": {
      "text/plain": [
       "74"
      ]
     },
     "execution_count": 37,
     "metadata": {},
     "output_type": "execute_result"
    }
   ],
   "source": [
    "dirty = 73.66666666666667\n",
    "round(dirty)"
   ]
  },
  {
   "cell_type": "code",
   "execution_count": 38,
   "id": "a7622745",
   "metadata": {},
   "outputs": [],
   "source": [
    "import math"
   ]
  },
  {
   "cell_type": "code",
   "execution_count": 39,
   "id": "77fc528a",
   "metadata": {},
   "outputs": [
    {
     "data": {
      "text/plain": [
       "73"
      ]
     },
     "execution_count": 39,
     "metadata": {},
     "output_type": "execute_result"
    }
   ],
   "source": [
    "math.floor(dirty)"
   ]
  },
  {
   "cell_type": "code",
   "execution_count": 40,
   "id": "789ef59d",
   "metadata": {},
   "outputs": [
    {
     "data": {
      "text/plain": [
       "74"
      ]
     },
     "execution_count": 40,
     "metadata": {},
     "output_type": "execute_result"
    }
   ],
   "source": [
    "math.ceil(dirty)"
   ]
  },
  {
   "cell_type": "code",
   "execution_count": 41,
   "id": "20274f7b",
   "metadata": {},
   "outputs": [
    {
     "data": {
      "text/plain": [
       "73.67"
      ]
     },
     "execution_count": 41,
     "metadata": {},
     "output_type": "execute_result"
    }
   ],
   "source": [
    "round(dirty, 2)"
   ]
  },
  {
   "cell_type": "code",
   "execution_count": 45,
   "id": "2ee36fa5",
   "metadata": {},
   "outputs": [
    {
     "data": {
      "text/plain": [
       "1"
      ]
     },
     "execution_count": 45,
     "metadata": {},
     "output_type": "execute_result"
    }
   ],
   "source": [
    "int(1.6)"
   ]
  },
  {
   "cell_type": "markdown",
   "id": "add0993c",
   "metadata": {},
   "source": [
    "### 카카오문제"
   ]
  },
  {
   "cell_type": "code",
   "execution_count": 49,
   "id": "ecd4b167",
   "metadata": {},
   "outputs": [
    {
     "ename": "SyntaxError",
     "evalue": "invalid syntax (1356065742.py, line 15)",
     "output_type": "error",
     "traceback": [
      "\u001b[1;36m  Input \u001b[1;32mIn [49]\u001b[1;36m\u001b[0m\n\u001b[1;33m    new_id = new_id.replace(.., .)\u001b[0m\n\u001b[1;37m                            ^\u001b[0m\n\u001b[1;31mSyntaxError\u001b[0m\u001b[1;31m:\u001b[0m invalid syntax\n"
     ]
    }
   ],
   "source": [
    "new_id = input(\"새로운 아이디를 입력해주세요.\")\n",
    "    \n",
    "allowed = ['a', 'b', 'c', 'd', 'e', 'f', 'g', 'h', 'i', 'j', 'k', 'l', 'm', 'n', 'o', 'p' ,'q', 'r', 's', 't', 'u', 'v', 'w', 'x', 'y', 'z', \"0\", \"1\", \"2\", \"3\", \"4\", \"5\", \"6\", \"7\", \"8\", \"9\", \"0\",  \"-\", \"_\", \".\"]\n",
    "\n",
    "#1단계\n",
    "new_id = new_id.lower()\n",
    "\n",
    "#2단계\n",
    "for i in new_id:\n",
    "    if i not in allowed:\n",
    "        new_id = new_id.replace(i, \"\")\n",
    "        \n",
    "#3단계\n",
    "while \"..\" in new_id:\n",
    "        new_id = new_id.replace(\"..\"\".\")\n",
    "        \n",
    "#4단계\n",
    "if i in allowed:\n",
    "        new_id = new_id.del(.)\n",
    "#5단계\n",
    "if new_id == \"\":\n",
    "    print\n",
    "#6단계\n",
    "if len(new_id) >= 16:\n",
    "    \n",
    "    \n",
    "#7단계\n",
    "print(new_id)\n"
   ]
  },
  {
   "cell_type": "code",
   "execution_count": null,
   "id": "975414c6",
   "metadata": {},
   "outputs": [],
   "source": []
  }
 ],
 "metadata": {
  "kernelspec": {
   "display_name": "Python 3 (ipykernel)",
   "language": "python",
   "name": "python3"
  },
  "language_info": {
   "codemirror_mode": {
    "name": "ipython",
    "version": 3
   },
   "file_extension": ".py",
   "mimetype": "text/x-python",
   "name": "python",
   "nbconvert_exporter": "python",
   "pygments_lexer": "ipython3",
   "version": "3.9.12"
  }
 },
 "nbformat": 4,
 "nbformat_minor": 5
}
