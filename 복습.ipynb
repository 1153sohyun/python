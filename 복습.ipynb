{
 "cells": [
  {
   "cell_type": "markdown",
   "id": "ece7eb08",
   "metadata": {},
   "source": [
    "### 변수에 할당될 수 있는 자료형\n",
    "\n",
    "- 정수형 (integer)\n",
    "- 실수형 (float)\n",
    "- 문자형 (string)\n",
    "- 논리형 (boolean)"
   ]
  },
  {
   "cell_type": "code",
   "execution_count": 1,
   "id": "bd47a51b",
   "metadata": {},
   "outputs": [
    {
     "data": {
      "text/plain": [
       "int"
      ]
     },
     "execution_count": 1,
     "metadata": {},
     "output_type": "execute_result"
    }
   ],
   "source": [
    "jeongsu = 1\n",
    "type(jeongsu)"
   ]
  },
  {
   "cell_type": "code",
   "execution_count": 4,
   "id": "76fbaa46",
   "metadata": {},
   "outputs": [
    {
     "data": {
      "text/plain": [
       "float"
      ]
     },
     "execution_count": 4,
     "metadata": {},
     "output_type": "execute_result"
    }
   ],
   "source": [
    "silsu = 1.2\n",
    "type(silsu)"
   ]
  },
  {
   "cell_type": "code",
   "execution_count": 6,
   "id": "5b6c1499",
   "metadata": {},
   "outputs": [
    {
     "data": {
      "text/plain": [
       "1.0"
      ]
     },
     "execution_count": 6,
     "metadata": {},
     "output_type": "execute_result"
    }
   ],
   "source": [
    "float(jeongsu)"
   ]
  },
  {
   "cell_type": "code",
   "execution_count": 7,
   "id": "943f058f",
   "metadata": {},
   "outputs": [
    {
     "data": {
      "text/plain": [
       "2"
      ]
     },
     "execution_count": 7,
     "metadata": {},
     "output_type": "execute_result"
    }
   ],
   "source": [
    "1 + 1"
   ]
  },
  {
   "cell_type": "code",
   "execution_count": 8,
   "id": "f1a1bb3d",
   "metadata": {},
   "outputs": [
    {
     "data": {
      "text/plain": [
       "6"
      ]
     },
     "execution_count": 8,
     "metadata": {},
     "output_type": "execute_result"
    }
   ],
   "source": [
    "2 * 3"
   ]
  },
  {
   "cell_type": "code",
   "execution_count": 9,
   "id": "70a69e21",
   "metadata": {},
   "outputs": [
    {
     "data": {
      "text/plain": [
       "0.6666666666666666"
      ]
     },
     "execution_count": 9,
     "metadata": {},
     "output_type": "execute_result"
    }
   ],
   "source": [
    "2 / 3"
   ]
  },
  {
   "cell_type": "code",
   "execution_count": 10,
   "id": "33fc831d",
   "metadata": {},
   "outputs": [
    {
     "data": {
      "text/plain": [
       "2"
      ]
     },
     "execution_count": 10,
     "metadata": {},
     "output_type": "execute_result"
    }
   ],
   "source": [
    "7//3"
   ]
  },
  {
   "cell_type": "code",
   "execution_count": 11,
   "id": "dd7d65ae",
   "metadata": {},
   "outputs": [
    {
     "data": {
      "text/plain": [
       "1"
      ]
     },
     "execution_count": 11,
     "metadata": {},
     "output_type": "execute_result"
    }
   ],
   "source": [
    "7%2"
   ]
  },
  {
   "cell_type": "markdown",
   "id": "0e0c157d",
   "metadata": {},
   "source": [
    "### 문자"
   ]
  },
  {
   "cell_type": "code",
   "execution_count": 13,
   "id": "bfd7584f",
   "metadata": {},
   "outputs": [
    {
     "data": {
      "text/plain": [
       "str"
      ]
     },
     "execution_count": 13,
     "metadata": {},
     "output_type": "execute_result"
    }
   ],
   "source": [
    "b = 'banana'\n",
    "type(b)"
   ]
  },
  {
   "cell_type": "code",
   "execution_count": 14,
   "id": "e306899f",
   "metadata": {},
   "outputs": [
    {
     "data": {
      "text/plain": [
       "'N'"
      ]
     },
     "execution_count": 14,
     "metadata": {},
     "output_type": "execute_result"
    }
   ],
   "source": [
    "\"BaNaNa\"[2]"
   ]
  },
  {
   "cell_type": "code",
   "execution_count": 21,
   "id": "acf85c17",
   "metadata": {},
   "outputs": [
    {
     "data": {
      "text/plain": [
       "'name is stephany'"
      ]
     },
     "execution_count": 21,
     "metadata": {},
     "output_type": "execute_result"
    }
   ],
   "source": [
    "\"my name is stephany\" [3:]"
   ]
  },
  {
   "cell_type": "code",
   "execution_count": 29,
   "id": "7263d962",
   "metadata": {},
   "outputs": [
    {
     "name": "stdout",
     "output_type": "stream",
     "text": [
      "오늘 점심은 국밥과 짜장면입니다.\n"
     ]
    }
   ],
   "source": [
    "menu1 = \"초밥\"\n",
    "menu2 = \"짜장면\"\n",
    "menu3 = \"국밥\"\n",
    "\n",
    "print(f\"오늘 점심은 {menu3}과 {menu2}입니다.\")"
   ]
  },
  {
   "cell_type": "code",
   "execution_count": 30,
   "id": "f7f8a499",
   "metadata": {},
   "outputs": [],
   "source": [
    "song = \"tell me tell me tetetete tell me\""
   ]
  },
  {
   "cell_type": "code",
   "execution_count": 31,
   "id": "c8a0ecef",
   "metadata": {},
   "outputs": [
    {
     "data": {
      "text/plain": [
       "3"
      ]
     },
     "execution_count": 31,
     "metadata": {},
     "output_type": "execute_result"
    }
   ],
   "source": [
    "song.count(\"tell me\")"
   ]
  },
  {
   "cell_type": "code",
   "execution_count": 32,
   "id": "110fbb09",
   "metadata": {},
   "outputs": [
    {
     "data": {
      "text/plain": [
       "0"
      ]
     },
     "execution_count": 32,
     "metadata": {},
     "output_type": "execute_result"
    }
   ],
   "source": [
    "song.find(\"tell me\")"
   ]
  },
  {
   "cell_type": "code",
   "execution_count": 33,
   "id": "fc21b101",
   "metadata": {},
   "outputs": [
    {
     "name": "stdout",
     "output_type": "stream",
     "text": [
      "TELL ME TELL ME TETETETE TELL ME\n",
      "tell me tell me tetetete tell me\n",
      "Tell Me Tell Me Tetetete Tell Me\n"
     ]
    }
   ],
   "source": [
    "print(song.upper())\n",
    "print(song.lower())\n",
    "print(song.title())"
   ]
  },
  {
   "cell_type": "code",
   "execution_count": 34,
   "id": "3afe0e8c",
   "metadata": {},
   "outputs": [
    {
     "data": {
      "text/plain": [
       "['', 'll me ', 'll me ', '', '', '', ' ', 'll me']"
      ]
     },
     "execution_count": 34,
     "metadata": {},
     "output_type": "execute_result"
    }
   ],
   "source": [
    "song.split(\"te\")"
   ]
  },
  {
   "cell_type": "code",
   "execution_count": 35,
   "id": "aece3b55",
   "metadata": {},
   "outputs": [
    {
     "data": {
      "text/plain": [
       "'tell him tell him tetetete tell him'"
      ]
     },
     "execution_count": 35,
     "metadata": {},
     "output_type": "execute_result"
    }
   ],
   "source": [
    "song.replace(\"me\", \"him\")"
   ]
  },
  {
   "cell_type": "code",
   "execution_count": 36,
   "id": "44529781",
   "metadata": {},
   "outputs": [
    {
     "data": {
      "text/plain": [
       "'안녕하세요'"
      ]
     },
     "execution_count": 36,
     "metadata": {},
     "output_type": "execute_result"
    }
   ],
   "source": [
    "\"안녕\" + \"하세요\""
   ]
  },
  {
   "cell_type": "code",
   "execution_count": 37,
   "id": "b2bab26b",
   "metadata": {},
   "outputs": [
    {
     "data": {
      "text/plain": [
       "'안녕안녕안녕'"
      ]
     },
     "execution_count": 37,
     "metadata": {},
     "output_type": "execute_result"
    }
   ],
   "source": [
    "\"안녕\" * 3"
   ]
  },
  {
   "cell_type": "markdown",
   "id": "3080d335",
   "metadata": {},
   "source": [
    "### 논리형"
   ]
  },
  {
   "cell_type": "code",
   "execution_count": 38,
   "id": "7b374b9c",
   "metadata": {},
   "outputs": [
    {
     "data": {
      "text/plain": [
       "False"
      ]
     },
     "execution_count": 38,
     "metadata": {},
     "output_type": "execute_result"
    }
   ],
   "source": [
    "1 == 2"
   ]
  },
  {
   "cell_type": "code",
   "execution_count": 39,
   "id": "0334401e",
   "metadata": {},
   "outputs": [
    {
     "data": {
      "text/plain": [
       "True"
      ]
     },
     "execution_count": 39,
     "metadata": {},
     "output_type": "execute_result"
    }
   ],
   "source": [
    "1 < 2"
   ]
  },
  {
   "cell_type": "code",
   "execution_count": 40,
   "id": "0987af99",
   "metadata": {},
   "outputs": [
    {
     "data": {
      "text/plain": [
       "True"
      ]
     },
     "execution_count": 40,
     "metadata": {},
     "output_type": "execute_result"
    }
   ],
   "source": [
    "1!= 2"
   ]
  },
  {
   "cell_type": "code",
   "execution_count": 41,
   "id": "3141f9aa",
   "metadata": {},
   "outputs": [
    {
     "data": {
      "text/plain": [
       "True"
      ]
     },
     "execution_count": 41,
     "metadata": {},
     "output_type": "execute_result"
    }
   ],
   "source": [
    "6%3 == 0 and 6%2 == 0"
   ]
  },
  {
   "cell_type": "code",
   "execution_count": 42,
   "id": "32829421",
   "metadata": {},
   "outputs": [
    {
     "data": {
      "text/plain": [
       "False"
      ]
     },
     "execution_count": 42,
     "metadata": {},
     "output_type": "execute_result"
    }
   ],
   "source": [
    "6%3 == 0 and 6%5 == 0"
   ]
  },
  {
   "cell_type": "markdown",
   "id": "8c15df65",
   "metadata": {},
   "source": [
    "### 조건문"
   ]
  },
  {
   "cell_type": "markdown",
   "id": "28c371f9",
   "metadata": {},
   "source": [
    "if 명제1:\n",
    "    명제가 참일 경우에 실행되는 코드\n",
    "    \n",
    "elif 명제2:\n",
    "    명제1은 거짓이지만, 명제2는 참일 경우에 실행되는 코드\n",
    "    \n",
    "else:\n",
    "    명제1과 명제2가 모두 거짓일 경우에 실행되는 코드"
   ]
  },
  {
   "cell_type": "code",
   "execution_count": 45,
   "id": "ce1a52b1",
   "metadata": {},
   "outputs": [
    {
     "name": "stdout",
     "output_type": "stream",
     "text": [
      "버스를 타고 간다.\n",
      "우와 집이다!\n"
     ]
    }
   ],
   "source": [
    "money = 2000\n",
    "if money >= 4000:\n",
    "    print(\"택시를 타고 간다.\")\n",
    "    \n",
    "elif money < 4000 and money >= 1250:\n",
    "    print(\"버스를 타고 간다.\")\n",
    "\n",
    "else :\n",
    "    pass\n",
    "\n",
    "print(\"우와 집이다!\")"
   ]
  },
  {
   "cell_type": "markdown",
   "id": "b17c69ff",
   "metadata": {},
   "source": [
    "### 리스트, 튜플"
   ]
  },
  {
   "cell_type": "code",
   "execution_count": 49,
   "id": "12d82708",
   "metadata": {},
   "outputs": [],
   "source": [
    "list1 = ['a', 'b', 'c', 'd', 'e']\n",
    "tuple1 = ('a', 'b', 'c', 'd', 'e')"
   ]
  },
  {
   "cell_type": "code",
   "execution_count": 51,
   "id": "8ac2b22c",
   "metadata": {},
   "outputs": [
    {
     "data": {
      "text/plain": [
       "['a', 'b', 'c', 'g', 'd', 'e', 'f']"
      ]
     },
     "execution_count": 51,
     "metadata": {},
     "output_type": "execute_result"
    }
   ],
   "source": [
    "# 원소 추가\n",
    "list1.insert(3, \"g\")\n",
    "list1"
   ]
  },
  {
   "cell_type": "code",
   "execution_count": 54,
   "id": "be1ff279",
   "metadata": {},
   "outputs": [
    {
     "data": {
      "text/plain": [
       "['a', 'b', 'c', 'd']"
      ]
     },
     "execution_count": 54,
     "metadata": {},
     "output_type": "execute_result"
    }
   ],
   "source": [
    "# 원소 제거\n",
    "list1.pop()\n",
    "list1"
   ]
  },
  {
   "cell_type": "code",
   "execution_count": 55,
   "id": "c666447d",
   "metadata": {},
   "outputs": [
    {
     "data": {
      "text/plain": [
       "['e', 'b', 'c', 'd']"
      ]
     },
     "execution_count": 55,
     "metadata": {},
     "output_type": "execute_result"
    }
   ],
   "source": [
    "# 원소 교체\n",
    "list1[0] = 'e'\n",
    "list1"
   ]
  },
  {
   "cell_type": "code",
   "execution_count": 56,
   "id": "97e840cf",
   "metadata": {},
   "outputs": [
    {
     "data": {
      "text/plain": [
       "['d', 'c', 'b', 'e']"
      ]
     },
     "execution_count": 56,
     "metadata": {},
     "output_type": "execute_result"
    }
   ],
   "source": [
    "list1.reverse()\n",
    "list1"
   ]
  },
  {
   "cell_type": "code",
   "execution_count": 57,
   "id": "a1a31faf",
   "metadata": {},
   "outputs": [
    {
     "data": {
      "text/plain": [
       "['b', 'c', 'd', 'e']"
      ]
     },
     "execution_count": 57,
     "metadata": {},
     "output_type": "execute_result"
    }
   ],
   "source": [
    "list1.sort()\n",
    "list1"
   ]
  },
  {
   "cell_type": "code",
   "execution_count": 59,
   "id": "20135099",
   "metadata": {},
   "outputs": [
    {
     "data": {
      "text/plain": [
       "0.3753679740422686"
      ]
     },
     "execution_count": 59,
     "metadata": {},
     "output_type": "execute_result"
    }
   ],
   "source": [
    "import random\n",
    "random.random()"
   ]
  },
  {
   "cell_type": "code",
   "execution_count": 61,
   "id": "acebf7c9",
   "metadata": {},
   "outputs": [
    {
     "data": {
      "text/plain": [
       "'c'"
      ]
     },
     "execution_count": 61,
     "metadata": {},
     "output_type": "execute_result"
    }
   ],
   "source": [
    "random.choice(list1)"
   ]
  },
  {
   "cell_type": "markdown",
   "id": "5a2c1eaf",
   "metadata": {},
   "source": [
    "### 아이템 강화 시스템\n",
    "- 플레이이로부터 아이템의 강화 등급을 입력받습니다. (0 ~ 10)\n",
    "- 강화 성공률은 0등급일 때 70%, 1등급일 때 65%... 1등급이 올라갈수록 5%씩 하락합니다.\n",
    "- 강화 실패 시 50% 확률로 아이템이 파괴됩니다.\n",
    "- 강화 성공 시 \"강화 성공\", 강화 실패 시 \"강화 실패\", 아이템 파괴 시 \"아이템 파괴\"를 출력해주세요."
   ]
  },
  {
   "cell_type": "code",
   "execution_count": 66,
   "id": "df23fc4f",
   "metadata": {},
   "outputs": [
    {
     "name": "stdout",
     "output_type": "stream",
     "text": [
      "강화 등급을 입력하세요:5\n",
      "강화 실패\n"
     ]
    }
   ],
   "source": [
    "item = int(input(\"강화 등급을 입력하세요:\"))\n",
    "prob1 = random.random()\n",
    "prob2= random.random()\n",
    "\n",
    "if prob1 <= 0.7 - (0.05 * item):\n",
    "    print(\"강화 성공\")\n",
    "else:\n",
    "    if prob2 <= 0.5:\n",
    "        print(\"강화 실패\")\n",
    "    else:\n",
    "        print(\"아이템 파괴\")\n"
   ]
  },
  {
   "cell_type": "code",
   "execution_count": null,
   "id": "36a12547",
   "metadata": {},
   "outputs": [],
   "source": []
  }
 ],
 "metadata": {
  "kernelspec": {
   "display_name": "Python 3 (ipykernel)",
   "language": "python",
   "name": "python3"
  },
  "language_info": {
   "codemirror_mode": {
    "name": "ipython",
    "version": 3
   },
   "file_extension": ".py",
   "mimetype": "text/x-python",
   "name": "python",
   "nbconvert_exporter": "python",
   "pygments_lexer": "ipython3",
   "version": "3.9.12"
  }
 },
 "nbformat": 4,
 "nbformat_minor": 5
}
