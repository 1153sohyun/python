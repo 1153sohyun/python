{
 "cells": [
  {
   "cell_type": "markdown",
   "id": "0493fa8d",
   "metadata": {},
   "source": [
    "### 변수 (검은색)\n",
    "\n",
    "- 정수형 (int)\n",
    "- 논리형 (Boolean)\n",
    "- 실수형 (float)\n",
    "- 문자형 (str)\n",
    "\n",
    "문자열 (빨간색) 으로 바꿔주려면 \" \" 추가"
   ]
  },
  {
   "cell_type": "markdown",
   "id": "c7b82f87",
   "metadata": {},
   "source": [
    "인덱싱과 슬라이싱\n",
    "\n",
    "인덱싱 : 순서가 있는 문자열에 순서를 부여\n",
    "\n",
    "- 인덱싱이 가능한 애들 : 문자열 ex) \"m\" in \"mango\"\n",
    "- 순서 지칭 : [  ] 사용\n",
    "- 숫자 부여시 해당하는 문자열을 불러올 수 있음\n",
    "- 문자열이 아닌 다른 형태에서도 사용 가능\n",
    "- ex) [\"apple\", \"banana\", \"melon\"][0][0] : a 출력\n",
    "\n",
    "- 리스트 안에 리스트도 들어갈 수 있음\n",
    "- ex) [\"apple, \"banana\", [\"melon\", \"watermelon\"]][2][1][0] : w 출력\n",
    "\n",
    "### 슬라이싱\n",
    "\n",
    "- 슬라이싱은 구간을 지정할 수 있음\n",
    "- : 사용"
   ]
  },
  {
   "cell_type": "code",
   "execution_count": 6,
   "id": "a7454cec",
   "metadata": {
    "scrolled": true
   },
   "outputs": [
    {
     "data": {
      "text/plain": [
       "'o'"
      ]
     },
     "execution_count": 6,
     "metadata": {},
     "output_type": "execute_result"
    }
   ],
   "source": [
    "fruit = [[\"mango\", \"grape\"], [\"apple\", \"banana\", [\"melon\", \"watermelon\"]]]\n",
    "fruit[1][2][0][3]"
   ]
  },
  {
   "cell_type": "code",
   "execution_count": 7,
   "id": "6705da8b",
   "metadata": {},
   "outputs": [
    {
     "data": {
      "text/plain": [
       "'r'"
      ]
     },
     "execution_count": 7,
     "metadata": {},
     "output_type": "execute_result"
    }
   ],
   "source": [
    "fruit[0][1][1]"
   ]
  },
  {
   "cell_type": "code",
   "execution_count": 8,
   "id": "2d26808f",
   "metadata": {},
   "outputs": [
    {
     "data": {
      "text/plain": [
       "'melon'"
      ]
     },
     "execution_count": 8,
     "metadata": {},
     "output_type": "execute_result"
    }
   ],
   "source": [
    "\"watermelon\"[5:10]"
   ]
  },
  {
   "cell_type": "code",
   "execution_count": 9,
   "id": "27582e23",
   "metadata": {},
   "outputs": [
    {
     "data": {
      "text/plain": [
       "'melon'"
      ]
     },
     "execution_count": 9,
     "metadata": {},
     "output_type": "execute_result"
    }
   ],
   "source": [
    "\"watermelon\"[-5:]"
   ]
  },
  {
   "cell_type": "code",
   "execution_count": 14,
   "id": "b28977f9",
   "metadata": {
    "scrolled": true
   },
   "outputs": [
    {
     "data": {
      "text/plain": [
       "'water'"
      ]
     },
     "execution_count": 14,
     "metadata": {},
     "output_type": "execute_result"
    }
   ],
   "source": [
    "fruit[1][2][1][:5]"
   ]
  },
  {
   "cell_type": "markdown",
   "id": "088baa00",
   "metadata": {},
   "source": [
    "### Formating"
   ]
  },
  {
   "cell_type": "code",
   "execution_count": 16,
   "id": "9e2f08a2",
   "metadata": {},
   "outputs": [
    {
     "name": "stdout",
     "output_type": "stream",
     "text": [
      "시장에 가면 망고이/가 있다.\n"
     ]
    }
   ],
   "source": [
    "fruit1 = \"망고\"\n",
    "fruit2 = \"파인애플\"\n",
    "fruit3 = \"멜론\"\n",
    "\n",
    "print(f\"시장에 가면 {fruit1}이/가 있다.\")"
   ]
  },
  {
   "cell_type": "code",
   "execution_count": 18,
   "id": "404e9655",
   "metadata": {},
   "outputs": [
    {
     "name": "stdout",
     "output_type": "stream",
     "text": [
      "There is a mango in the market\n"
     ]
    }
   ],
   "source": [
    "fruit = [\"mango\", \"grape\", \"apple\", \"banana\", \"melon\", \"watermelon\"]\n",
    "print(\"There is a {} in the market\".format(fruit[0]))"
   ]
  },
  {
   "cell_type": "code",
   "execution_count": 19,
   "id": "6a9fd09a",
   "metadata": {},
   "outputs": [
    {
     "name": "stdout",
     "output_type": "stream",
     "text": [
      "There is a mango in the market\n"
     ]
    }
   ],
   "source": [
    "print(f\"There is a {fruit[0]} in the market\")"
   ]
  },
  {
   "cell_type": "code",
   "execution_count": 20,
   "id": "3dc08457",
   "metadata": {},
   "outputs": [
    {
     "data": {
      "text/plain": [
       "3"
      ]
     },
     "execution_count": 20,
     "metadata": {},
     "output_type": "execute_result"
    }
   ],
   "source": [
    "sentence = \"There is a mango in the market\"\n",
    "sentence.count(\"a\")"
   ]
  },
  {
   "cell_type": "markdown",
   "id": "df466775",
   "metadata": {},
   "source": [
    "- sentence.count = 특정 단어의 갯수를 세는 함수\n",
    "- sentence.find = 특정 단어의 위치를 반환하는 함수\n",
    "- sentence.upper = 모두 대문자로 변환\n",
    "- sentence.lower = 모두 소문자로 변환\n",
    "- sentence.split = 특정 문자를 기준으로 문장을 나눔\n",
    "- sentence.replace = 특정 문자를 다른 문자로 바꾸고 싶을 때\n",
    "\n",
    "\n",
    "ex)\n",
    "fruit = [\"mango\", \"grape\", \"apple\", \"banana\", \"melon\", \"watermelon\"]\n",
    "sentence = \"There is a mango in the market\"\n",
    "\n",
    "- sentence.replace(\"mango\", \"grape\")\n",
    "- sentence.replace(fruit[0],fruit[1])       : same result"
   ]
  },
  {
   "cell_type": "code",
   "execution_count": 21,
   "id": "c8b2f228",
   "metadata": {},
   "outputs": [
    {
     "data": {
      "text/plain": [
       "['There is ', ' m', 'ngo in the m', 'rket']"
      ]
     },
     "execution_count": 21,
     "metadata": {},
     "output_type": "execute_result"
    }
   ],
   "source": [
    "sentence.split(\"a\")"
   ]
  },
  {
   "cell_type": "code",
   "execution_count": 22,
   "id": "19ad2ba6",
   "metadata": {},
   "outputs": [
    {
     "data": {
      "text/plain": [
       "'There is a grape in the market'"
      ]
     },
     "execution_count": 22,
     "metadata": {},
     "output_type": "execute_result"
    }
   ],
   "source": [
    "fruit = [\"mango\", \"grape\", \"apple\", \"banana\", \"melon\", \"watermelon\"]\n",
    "sentence = \"There is a mango in the market\"\n",
    "\n",
    "sentence.replace(\"mango\", \"grape\")"
   ]
  },
  {
   "cell_type": "code",
   "execution_count": 23,
   "id": "35eec53b",
   "metadata": {},
   "outputs": [
    {
     "data": {
      "text/plain": [
       "'There is a grape in the market'"
      ]
     },
     "execution_count": 23,
     "metadata": {},
     "output_type": "execute_result"
    }
   ],
   "source": [
    "sentence.replace(fruit[0],fruit[1])"
   ]
  },
  {
   "cell_type": "code",
   "execution_count": 24,
   "id": "dca0b968",
   "metadata": {},
   "outputs": [
    {
     "data": {
      "text/plain": [
       "'There is a  in the market'"
      ]
     },
     "execution_count": 24,
     "metadata": {},
     "output_type": "execute_result"
    }
   ],
   "source": [
    "sentence.replace(\"mango\", \"\")"
   ]
  },
  {
   "cell_type": "markdown",
   "id": "c18533fa",
   "metadata": {},
   "source": [
    "### 연산자\n",
    "\n",
    "- 숫자의 연산은 모두 가능\n",
    "- 몫 연산자 : //\n",
    "- 나머지 연산자 : %\n",
    "- 지수 연산자 : **\n",
    "- num = num + 4\n",
    "- num += 4 : same result\n",
    "\n",
    "\n",
    "- 문자와 문자는 \"+만\" 가능\n",
    "- 문자와 숫자는 \"*만\" 가능"
   ]
  },
  {
   "cell_type": "code",
   "execution_count": null,
   "id": "43287151",
   "metadata": {},
   "outputs": [],
   "source": []
  },
  {
   "cell_type": "code",
   "execution_count": 25,
   "id": "6b664e12",
   "metadata": {},
   "outputs": [
    {
     "data": {
      "text/plain": [
       "11"
      ]
     },
     "execution_count": 25,
     "metadata": {},
     "output_type": "execute_result"
    }
   ],
   "source": [
    "num = 7\n",
    "num = num + 4\n",
    "num"
   ]
  },
  {
   "cell_type": "code",
   "execution_count": 26,
   "id": "0cf143a0",
   "metadata": {},
   "outputs": [
    {
     "data": {
      "text/plain": [
       "18"
      ]
     },
     "execution_count": 26,
     "metadata": {},
     "output_type": "execute_result"
    }
   ],
   "source": [
    "num += 7\n",
    "num"
   ]
  },
  {
   "cell_type": "code",
   "execution_count": 28,
   "id": "880e9866",
   "metadata": {},
   "outputs": [
    {
     "data": {
      "text/plain": [
       "'안녕하세요'"
      ]
     },
     "execution_count": 28,
     "metadata": {},
     "output_type": "execute_result"
    }
   ],
   "source": [
    "a = \"안녕\"\n",
    "b = \"하세요\"\n",
    "a + b"
   ]
  },
  {
   "cell_type": "code",
   "execution_count": 29,
   "id": "8329f534",
   "metadata": {},
   "outputs": [
    {
     "name": "stdout",
     "output_type": "stream",
     "text": [
      "14\n",
      "77\n"
     ]
    }
   ],
   "source": [
    "print(7+7)\n",
    "print(\"7\"+\"7\")"
   ]
  },
  {
   "cell_type": "markdown",
   "id": "35686c7d",
   "metadata": {},
   "source": [
    "- print(\"7\"+\"7\") 위의 문제를 고치기 위해선 int 삽입"
   ]
  },
  {
   "cell_type": "code",
   "execution_count": 30,
   "id": "11054ea1",
   "metadata": {},
   "outputs": [
    {
     "name": "stdout",
     "output_type": "stream",
     "text": [
      "14\n"
     ]
    }
   ],
   "source": [
    "print(int(\"7\") + int(\"7\"))"
   ]
  },
  {
   "cell_type": "markdown",
   "id": "6de7b728",
   "metadata": {},
   "source": [
    "len : length의 준말로 자료형의 index 갯수\n",
    "\n",
    "fruit = [\"mango\", \"grape\", \"apple\", \"banana\", \"melon\", \"watermelon\"]\n",
    "- len(fruit) = 6\n",
    "- len(fruit[0]) = 5"
   ]
  },
  {
   "cell_type": "markdown",
   "id": "fa665f51",
   "metadata": {},
   "source": [
    "### 논리형\n",
    "\n",
    "- 참, 거짓으로 판별이 가능한 문장       ex) 1>3 : false로 출력\n",
    "- 등호 사용    ex) == , != 로 표현    =은 할당하는 것과 같다는 것의 의미가 같기 때문에 형식적으로 구분하기 위해서 \"같다\"는 걸 표현하고 싶을 땐 == 두번 씀"
   ]
  },
  {
   "cell_type": "markdown",
   "id": "ff608a5a",
   "metadata": {},
   "source": [
    "### 조건문\n",
    "\n",
    "- if, else, elif 사용\n",
    "- : 은 블록 생성, 들여쓰기 사용\n",
    "- else에는 따로 조건 쓰지 않아도 됨\n",
    "- 중의적 표현을 막기 위해 적절한 괄호 사용 추천\n"
   ]
  },
  {
   "cell_type": "code",
   "execution_count": 32,
   "id": "1159aca7",
   "metadata": {},
   "outputs": [
    {
     "name": "stdout",
     "output_type": "stream",
     "text": [
      "홀수입니다.\n"
     ]
    }
   ],
   "source": [
    "sutja = 3\n",
    "#sutja = 4\n",
    "#sutja = 5\n",
    "\n",
    "if sutja%2 == 0:\n",
    "    print(\"짝수입니다.\")\n",
    "else:\n",
    "    print(\"홀수입니다.\")"
   ]
  },
  {
   "cell_type": "code",
   "execution_count": 33,
   "id": "a4305c41",
   "metadata": {},
   "outputs": [
    {
     "data": {
      "text/plain": [
       "True"
      ]
     },
     "execution_count": 33,
     "metadata": {},
     "output_type": "execute_result"
    }
   ],
   "source": [
    "fruit = [\"mango\", \"grape\", \"apple\", \"banana\", \"melon\", \"watermelon\"]\n",
    "\"mango\" in fruit"
   ]
  },
  {
   "cell_type": "code",
   "execution_count": 36,
   "id": "edbb0bfb",
   "metadata": {},
   "outputs": [
    {
     "data": {
      "text/plain": [
       "True"
      ]
     },
     "execution_count": 36,
     "metadata": {},
     "output_type": "execute_result"
    }
   ],
   "source": [
    "fruit = [\"mango\", \"grape\", \"apple\", \"banana\", \"melon\", \"watermelon\"]\n",
    "(\"mango\" in fruit) and (\"grape\" in fruit)"
   ]
  },
  {
   "cell_type": "code",
   "execution_count": 35,
   "id": "5fae6b12",
   "metadata": {},
   "outputs": [
    {
     "data": {
      "text/plain": [
       "True"
      ]
     },
     "execution_count": 35,
     "metadata": {},
     "output_type": "execute_result"
    }
   ],
   "source": [
    "\"mango\" and \"grape\" in fruit"
   ]
  },
  {
   "cell_type": "code",
   "execution_count": 39,
   "id": "f7b165da",
   "metadata": {},
   "outputs": [
    {
     "ename": "SyntaxError",
     "evalue": "invalid syntax (4155871582.py, line 1)",
     "output_type": "error",
     "traceback": [
      "\u001b[1;36m  Input \u001b[1;32mIn [39]\u001b[1;36m\u001b[0m\n\u001b[1;33m    제목 : tell me\u001b[0m\n\u001b[1;37m              ^\u001b[0m\n\u001b[1;31mSyntaxError\u001b[0m\u001b[1;31m:\u001b[0m invalid syntax\n"
     ]
    }
   ],
   "source": [
    "제목 : tell me\n",
    "lyrics"
   ]
  },
  {
   "cell_type": "code",
   "execution_count": 41,
   "id": "93fe1ea6",
   "metadata": {},
   "outputs": [
    {
     "ename": "SyntaxError",
     "evalue": "invalid syntax (1745065522.py, line 1)",
     "output_type": "error",
     "traceback": [
      "\u001b[1;36m  Input \u001b[1;32mIn [41]\u001b[1;36m\u001b[0m\n\u001b[1;33m    lyrics = 너도 날 좋아할 줄은 몰랐어\u001b[0m\n\u001b[1;37m                ^\u001b[0m\n\u001b[1;31mSyntaxError\u001b[0m\u001b[1;31m:\u001b[0m invalid syntax\n"
     ]
    }
   ],
   "source": [
    "lyrics = 너도 날 좋아할 줄은 몰랐어\n",
    "어쩌면 좋아 너무나 좋아\n",
    "꿈만 같아서 나 내 자신을\n",
    "자꾸 꼬집어봐 너무나 좋아\n",
    "니가 날 혹시 안 좋아할까봐\n",
    "혼자 얼마나 애태운지 몰라\n",
    "그런데 니가 날 사랑한다니\n",
    "어머나 다시 한번 말해봐\n",
    "Tell me tell me\n",
    "Tell tell tell tell tell tell me\n",
    "나를 사랑한다고 날 기다려왔다고\n",
    "Tell me tell me\n",
    "Tell tell tell tell tell tell me\n",
    "내가 필요하다 말해 말해줘요\n",
    "Tell me tell me\n",
    "Tell tell tell tell tell tell me\n",
    "자꾸만 듣고 싶어 계속 내게 말해줘\n",
    "Tell me tell me\n",
    "Tell tell tell tell tell tell me\n",
    "꿈이 아니라고 말해 말해줘요\n",
    "어쩜 내 가슴이 이렇게 뛰니\n",
    "가슴이 정말 터질것 같아\n",
    "니가 날 볼 때면 전기에\n",
    "감전된 사람처럼 전기가 올라\n",
    "얼마나 오래 기다린지 몰라\n",
    "얼마나 오래 꿈 꿨는지 몰라\n",
    "그런데 니가 날 사랑한다니\n",
    "어머나 다시 한번 말해봐\n",
    "Tell me tell me\n",
    "Tell tell tell tell tell tell me\n",
    "나를 사랑한다고 날 기다려왔다고\n",
    "Tell me tell me\n",
    "Tell tell tell tell tell tell me\n",
    "내가 필요하다 말해 말해줘요\n",
    "Tell me tell me\n",
    "Tell tell tell tell tell tell me\n",
    "자꾸만 듣고 싶어\n",
    "계속 내게 말해줘\n",
    "Tell me tell me\n",
    "Tell tell tell tell tell tell me\n",
    "꿈이 아니라고 말해 말해줘요\n",
    "원더걸스\n",
    "Tell me tell me tell me you\n",
    "Want me want me want me too\n",
    "Tell me tell me tell me you\n",
    "Love me too love me too\n",
    "얼마나 오래 기다린지 몰라\n",
    "얼마나 오래 꿈 꿨는지 몰라\n",
    "그런데 니가 날 사랑한다니\n",
    "어머나 다시 한번 말해봐\n",
    "Tell me tell me\n",
    "Tell tell tell tell tell tell me\n",
    "나를 사랑한다고 날 기다려왔다고\n",
    "Tell me tell me\n",
    "Tell tell tell tell tell tell me\n",
    "내가 필요하다 말해 말해줘요\n",
    "Tell me tell me\n",
    "Tell tell tell tell tell tell me\n",
    "자꾸만 듣고 싶어 계속 내게 말해줘\n",
    "Tell me tell me\n",
    "Tell tell tell tell tell tell me\n",
    "꿈이 아니라고 말해 말해줘요\n",
    "Tell me tell me\n",
    "Tell tell tell tell tell tell me\n",
    "Tell tell tell tell tell tell me\n",
    "\n",
    "if \"tell me\" in lyrics:\n",
    "    print (\"가사에 tell me 가 포함되어 있습니다.\")"
   ]
  },
  {
   "cell_type": "code",
   "execution_count": 51,
   "id": "24f20514",
   "metadata": {},
   "outputs": [],
   "source": [
    "lyrics = \"\"\"'\\n너도 날 좋아할 줄은 몰랐어\\n어쩌면 좋아 너무나 좋아\\n꿈만 같아서 나 내 자신을 자꾸 꼬집어봐\\n너무나 좋아 니가 날 혹시 안 좋아할까 봐\\n혼자 얼마나 애태운 지 몰라\\n그런데 너도 날 사랑한다니\\n어머나 다시 한 번 말해봐\\n\\nTell me, tell me, tell tell tell tell tell tell me\\n나를 사랑한다고 날 기다려왔다고\\nTell me, tell me, tell tell tell tell tell tell me\\n내가 필요하다 말해 말해줘요\\nTell me tell me, tell tell tell tell tell tell me\\n자꾸만 듣고 싶어 계속 내게 말해줘\\nTell me, tell me, tell tell tell tell tell tell me\\n꿈이 아니라고 말해 말해줘요\\n\\n어쩜 내 가슴이 이렇게 뛰니\\n가슴이 정말 터질 것 같아 니가 날 볼 때면\\n전기에 감전된 사람처럼 전기가 올라\\n\\n얼마나 오래 기다린 지 몰라\\n얼마나 오래 꿈 꿨는지 몰라\\n그런데 너도 날 사랑한다니\\n어머나 다시 한 번 말해봐\\n\\nTell me, tell me, tell tell tell tell tell tell me\\n나를 사랑한다고 날 기다려왔다고\\nTell me, tell me, tell tell tell tell tell tell me\\n내가 필요하다 말해 말해줘요\\nTell me tell me, tell tell tell tell tell tell me\\n자꾸만 듣고 싶어 계속 내게 말해줘\\nTell me, tell me, tell tell tell tell tell tell me\\n꿈이 아니라고 말해 말해줘요\\n\\n♬\\n\\nTell me, tell me, tell me you want me\\nwant me, want me too. Tell me, tell me\\ntell me you love me too, love me too.\\n\\nHit me one time baby 다시 한번\\nOkay 방금한 건 알지만 또 한번\\n예 계속 말해줘 들어도 들어도 듣고 싶어\\n어쩜 이런 일이 꿈인가 싶어\\n어머나 좋아서 어쩌나 Baby baby\\n\\nTell me, tell me, tell tell tell tell tell tell me\\n나를 사랑한다고 날 기다려왔다고\\nTell me, tell me, tell tell tell tell tell tell me\\n내가 필요하다 말해 말해줘요\\nTell me tell me, tell tell tell tell tell tell me\\n자꾸만 듣고 싶어 계속 내게 말해줘\\nTell me, tell me, tell tell tell tell tell tell me\\n꿈이 아니라고 말해 말해줘요\\nTell me, tell me, tell tell tell tell tell tell me\\n'\"\"\""
   ]
  },
  {
   "cell_type": "code",
   "execution_count": 72,
   "id": "1cc22310",
   "metadata": {
    "scrolled": true
   },
   "outputs": [
    {
     "name": "stdout",
     "output_type": "stream",
     "text": [
      "제목이 가사에 포함되어 있습니다.\n"
     ]
    }
   ],
   "source": [
    "#없애는 경우\n",
    "\n",
    "lyrics = \"\"\"\n",
    "너도 날 좋아할 줄은 몰랐어\n",
    "어쩌면 좋아 너무나 좋아\n",
    "꿈만 같아서 나 내 자신을\n",
    "자꾸 꼬집어봐 너무나 좋아\n",
    "니가 날 혹시 안 좋아할까봐\n",
    "혼자 얼마나 애태운지 몰라\n",
    "그런데 니가 날 사랑한다니\n",
    "어머나 다시 한번 말해봐\n",
    "Tell me tell me\n",
    "Tell tell tell tell tell tell me\n",
    "나를 사랑한다고 날 기다려왔다고\n",
    "Tell me tell me\n",
    "Tell tell tell tell tell tell me\n",
    "내가 필요하다 말해 말해줘요\n",
    "Tell me tell me\n",
    "Tell tell tell tell tell tell me\n",
    "자꾸만 듣고 싶어 계속 내게 말해줘\n",
    "Tell me tell me\n",
    "Tell tell tell tell tell tell me\n",
    "꿈이 아니라고 말해 말해줘요\n",
    "어쩜 내 가슴이 이렇게 뛰니\n",
    "가슴이 정말 터질것 같아\n",
    "니가 날 볼 때면 전기에\n",
    "감전된 사람처럼 전기가 올라\n",
    "얼마나 오래 기다린지 몰라\n",
    "얼마나 오래 꿈 꿨는지 몰라\n",
    "그런데 니가 날 사랑한다니\n",
    "어머나 다시 한번 말해봐\n",
    "Tell me tell me\n",
    "Tell tell tell tell tell tell me\n",
    "나를 사랑한다고 날 기다려왔다고\n",
    "Tell me tell me\n",
    "Tell tell tell tell tell tell me\n",
    "내가 필요하다 말해 말해줘요\n",
    "Tell me tell me\n",
    "Tell tell tell tell tell tell me\n",
    "자꾸만 듣고 싶어\n",
    "계속 내게 말해줘\n",
    "Tell me tell me\n",
    "Tell tell tell tell tell tell me\n",
    "꿈이 아니라고 말해 말해줘요\n",
    "원더걸스\n",
    "Tell me tell me tell me you\n",
    "Want me want me want me too\n",
    "Tell me tell me tell me you\n",
    "Love me too love me too\n",
    "얼마나 오래 기다린지 몰라\n",
    "얼마나 오래 꿈 꿨는지 몰라\n",
    "그런데 니가 날 사랑한다니\n",
    "어머나 다시 한번 말해봐\n",
    "Tell me tell me\n",
    "Tell tell tell tell tell tell me\n",
    "나를 사랑한다고 날 기다려왔다고\n",
    "Tell me tell me\n",
    "Tell tell tell tell tell tell me\n",
    "내가 필요하다 말해 말해줘요\n",
    "Tell me tell me\n",
    "Tell tell tell tell tell tell me\n",
    "자꾸만 듣고 싶어 계속 내게 말해줘\n",
    "Tell me tell me\n",
    "Tell tell tell tell tell tell me\n",
    "꿈이 아니라고 말해 말해줘요\n",
    "Tell me tell me\n",
    "Tell tell tell tell tell tell me\n",
    "Tell tell tell tell tell tell me\n",
    "\"\"\""
   ]
  },
  {
   "cell_type": "code",
   "execution_count": 48,
   "id": "9ceea7af",
   "metadata": {},
   "outputs": [
    {
     "ename": "SyntaxError",
     "evalue": "EOF while scanning triple-quoted string literal (2977079106.py, line 1)",
     "output_type": "error",
     "traceback": [
      "\u001b[1;36m  Input \u001b[1;32mIn [48]\u001b[1;36m\u001b[0m\n\u001b[1;33m    lyrics = \"\"\"\u001b[0m\n\u001b[1;37m                ^\u001b[0m\n\u001b[1;31mSyntaxError\u001b[0m\u001b[1;31m:\u001b[0m EOF while scanning triple-quoted string literal\n"
     ]
    }
   ],
   "source": [
    "lyrics = \"\"\""
   ]
  },
  {
   "cell_type": "code",
   "execution_count": 76,
   "id": "85b38d6f",
   "metadata": {
    "scrolled": true
   },
   "outputs": [
    {
     "name": "stdout",
     "output_type": "stream",
     "text": [
      "제목이 가사에 포함되어 있지 않습니다.\n"
     ]
    },
    {
     "data": {
      "text/plain": [
       "' 너도 날 좋아할 줄은 몰랐어 어쩌면 좋아 너무나 좋아 꿈만 같아서 나 내 자신을 자꾸 꼬집어봐 너무나 좋아 니가 날 혹시 안 좋아할까봐 혼자 얼마나 애태운지 몰라 그런데 니가 날 사랑한다니 어머나 다시 한번 말해봐 @@@@@@@@ @@@@@@@@ tell tell tell tell tell @@@@@@@@ 나를 사랑한다고 날 기다려왔다고 @@@@@@@@ @@@@@@@@ tell tell tell tell tell @@@@@@@@ 내가 필요하다 말해 말해줘요 @@@@@@@@ @@@@@@@@ tell tell tell tell tell @@@@@@@@ 자꾸만 듣고 싶어 계속 내게 말해줘 @@@@@@@@ @@@@@@@@ tell tell tell tell tell @@@@@@@@ 꿈이 아니라고 말해 말해줘요 어쩜 내 가슴이 이렇게 뛰니 가슴이 정말 터질것 같아 니가 날 볼 때면 전기에 감전된 사람처럼 전기가 올라 얼마나 오래 기다린지 몰라 얼마나 오래 꿈 꿨는지 몰라 그런데 니가 날 사랑한다니 어머나 다시 한번 말해봐 @@@@@@@@ @@@@@@@@ tell tell tell tell tell @@@@@@@@ 나를 사랑한다고 날 기다려왔다고 @@@@@@@@ @@@@@@@@ tell tell tell tell tell @@@@@@@@ 내가 필요하다 말해 말해줘요 @@@@@@@@ @@@@@@@@ tell tell tell tell tell @@@@@@@@ 자꾸만 듣고 싶어 계속 내게 말해줘 @@@@@@@@ @@@@@@@@ tell tell tell tell tell @@@@@@@@ 꿈이 아니라고 말해 말해줘요 원더걸스 @@@@@@@@ @@@@@@@@ @@@@@@@@ you want me want me want me too @@@@@@@@ @@@@@@@@ @@@@@@@@ you love me too love me too 얼마나 오래 기다린지 몰라 얼마나 오래 꿈 꿨는지 몰라 그런데 니가 날 사랑한다니 어머나 다시 한번 말해봐 @@@@@@@@ @@@@@@@@ tell tell tell tell tell @@@@@@@@ 나를 사랑한다고 날 기다려왔다고 @@@@@@@@ @@@@@@@@ tell tell tell tell tell @@@@@@@@ 내가 필요하다 말해 말해줘요 @@@@@@@@ @@@@@@@@ tell tell tell tell tell @@@@@@@@ 자꾸만 듣고 싶어 계속 내게 말해줘 @@@@@@@@ @@@@@@@@ tell tell tell tell tell @@@@@@@@ 꿈이 아니라고 말해 말해줘요 @@@@@@@@ @@@@@@@@ tell tell tell tell tell @@@@@@@@ tell tell tell tell tell @@@@@@@@ '"
      ]
     },
     "execution_count": 76,
     "metadata": {},
     "output_type": "execute_result"
    }
   ],
   "source": [
    "if \"tell me\" in lyrics:\n",
    "    print(\"제목이 가사에 포함되어 있습니다.\")\n",
    "else:\n",
    "    print(\"제목이 가사에 포함되어 있지 않습니다.\")\n",
    "\n",
    "lyrics = lyrics.replace(\"\\n\", \" \")\n",
    "lyrics = lyrics.lower()\n",
    "lyrics = lyrics.replace(\"tell me\", \"\")\n",
    "lyrics"
   ]
  },
  {
   "cell_type": "code",
   "execution_count": null,
   "id": "75078dc4",
   "metadata": {},
   "outputs": [],
   "source": []
  },
  {
   "cell_type": "code",
   "execution_count": 70,
   "id": "daed7ca8",
   "metadata": {
    "scrolled": true
   },
   "outputs": [
    {
     "data": {
      "text/plain": [
       "' 너도 날 좋아할 줄은 몰랐어 어쩌면 좋아 너무나 좋아 꿈만 같아서 나 내 자신을 자꾸 꼬집어봐 너무나 좋아 니가 날 혹시 안 좋아할까봐 혼자 얼마나 애태운지 몰라 그런데 니가 날 사랑한다니 어머나 다시 한번 말해봐 tell me tell me tell tell tell tell tell tell me 나를 사랑한다고 날 기다려왔다고 tell me tell me tell tell tell tell tell tell me 내가 필요하다 말해 말해줘요 tell me tell me tell tell tell tell tell tell me 자꾸만 듣고 싶어 계속 내게 말해줘 tell me tell me tell tell tell tell tell tell me 꿈이 아니라고 말해 말해줘요 어쩜 내 가슴이 이렇게 뛰니 가슴이 정말 터질것 같아 니가 날 볼 때면 전기에 감전된 사람처럼 전기가 올라 얼마나 오래 기다린지 몰라 얼마나 오래 꿈 꿨는지 몰라 그런데 니가 날 사랑한다니 어머나 다시 한번 말해봐 tell me tell me tell tell tell tell tell tell me 나를 사랑한다고 날 기다려왔다고 tell me tell me tell tell tell tell tell tell me 내가 필요하다 말해 말해줘요 tell me tell me tell tell tell tell tell tell me 자꾸만 듣고 싶어 계속 내게 말해줘 tell me tell me tell tell tell tell tell tell me 꿈이 아니라고 말해 말해줘요 원더걸스 tell me tell me tell me you want me want me want me too tell me tell me tell me you love me too love me too 얼마나 오래 기다린지 몰라 얼마나 오래 꿈 꿨는지 몰라 그런데 니가 날 사랑한다니 어머나 다시 한번 말해봐 tell me tell me tell tell tell tell tell tell me 나를 사랑한다고 날 기다려왔다고 tell me tell me tell tell tell tell tell tell me 내가 필요하다 말해 말해줘요 tell me tell me tell tell tell tell tell tell me 자꾸만 듣고 싶어 계속 내게 말해줘 tell me tell me tell tell tell tell tell tell me 꿈이 아니라고 말해 말해줘요 tell me tell me tell tell tell tell tell tell me tell tell tell tell tell tell me '"
      ]
     },
     "execution_count": 70,
     "metadata": {},
     "output_type": "execute_result"
    }
   ],
   "source": [
    "lyrics.replace(\"tell me\", \"\")\n",
    "lyrics"
   ]
  },
  {
   "cell_type": "code",
   "execution_count": 75,
   "id": "9a8a30ec",
   "metadata": {},
   "outputs": [
    {
     "data": {
      "text/plain": [
       "' 너도 날 좋아할 줄은 몰랐어 어쩌면 좋아 너무나 좋아 꿈만 같아서 나 내 자신을 자꾸 꼬집어봐 너무나 좋아 니가 날 혹시 안 좋아할까봐 혼자 얼마나 애태운지 몰라 그런데 니가 날 사랑한다니 어머나 다시 한번 말해봐 @@@@@@@@ @@@@@@@@ tell tell tell tell tell @@@@@@@@ 나를 사랑한다고 날 기다려왔다고 @@@@@@@@ @@@@@@@@ tell tell tell tell tell @@@@@@@@ 내가 필요하다 말해 말해줘요 @@@@@@@@ @@@@@@@@ tell tell tell tell tell @@@@@@@@ 자꾸만 듣고 싶어 계속 내게 말해줘 @@@@@@@@ @@@@@@@@ tell tell tell tell tell @@@@@@@@ 꿈이 아니라고 말해 말해줘요 어쩜 내 가슴이 이렇게 뛰니 가슴이 정말 터질것 같아 니가 날 볼 때면 전기에 감전된 사람처럼 전기가 올라 얼마나 오래 기다린지 몰라 얼마나 오래 꿈 꿨는지 몰라 그런데 니가 날 사랑한다니 어머나 다시 한번 말해봐 @@@@@@@@ @@@@@@@@ tell tell tell tell tell @@@@@@@@ 나를 사랑한다고 날 기다려왔다고 @@@@@@@@ @@@@@@@@ tell tell tell tell tell @@@@@@@@ 내가 필요하다 말해 말해줘요 @@@@@@@@ @@@@@@@@ tell tell tell tell tell @@@@@@@@ 자꾸만 듣고 싶어 계속 내게 말해줘 @@@@@@@@ @@@@@@@@ tell tell tell tell tell @@@@@@@@ 꿈이 아니라고 말해 말해줘요 원더걸스 @@@@@@@@ @@@@@@@@ @@@@@@@@ you want me want me want me too @@@@@@@@ @@@@@@@@ @@@@@@@@ you love me too love me too 얼마나 오래 기다린지 몰라 얼마나 오래 꿈 꿨는지 몰라 그런데 니가 날 사랑한다니 어머나 다시 한번 말해봐 @@@@@@@@ @@@@@@@@ tell tell tell tell tell @@@@@@@@ 나를 사랑한다고 날 기다려왔다고 @@@@@@@@ @@@@@@@@ tell tell tell tell tell @@@@@@@@ 내가 필요하다 말해 말해줘요 @@@@@@@@ @@@@@@@@ tell tell tell tell tell @@@@@@@@ 자꾸만 듣고 싶어 계속 내게 말해줘 @@@@@@@@ @@@@@@@@ tell tell tell tell tell @@@@@@@@ 꿈이 아니라고 말해 말해줘요 @@@@@@@@ @@@@@@@@ tell tell tell tell tell @@@@@@@@ tell tell tell tell tell @@@@@@@@ '"
      ]
     },
     "execution_count": 75,
     "metadata": {},
     "output_type": "execute_result"
    }
   ],
   "source": [
    "# 가리는 경우\n",
    "lyrics = lyrics.lower()\n",
    "lyrics = lyrics.replace(\"tell me\", '@@@@@@@@')\n",
    "lyrics"
   ]
  },
  {
   "cell_type": "code",
   "execution_count": 47,
   "id": "0168905a",
   "metadata": {
    "scrolled": true
   },
   "outputs": [
    {
     "ename": "SyntaxError",
     "evalue": "invalid syntax (4155871582.py, line 1)",
     "output_type": "error",
     "traceback": [
      "\u001b[1;36m  Input \u001b[1;32mIn [47]\u001b[1;36m\u001b[0m\n\u001b[1;33m    제목 : tell me\u001b[0m\n\u001b[1;37m              ^\u001b[0m\n\u001b[1;31mSyntaxError\u001b[0m\u001b[1;31m:\u001b[0m invalid syntax\n"
     ]
    }
   ],
   "source": [
    "제목 : tell me\n",
    "lyrics"
   ]
  },
  {
   "cell_type": "code",
   "execution_count": 44,
   "id": "d9e2bcc8",
   "metadata": {},
   "outputs": [
    {
     "ename": "NameError",
     "evalue": "name 'lyrics' is not defined",
     "output_type": "error",
     "traceback": [
      "\u001b[1;31m---------------------------------------------------------------------------\u001b[0m",
      "\u001b[1;31mNameError\u001b[0m                                 Traceback (most recent call last)",
      "Input \u001b[1;32mIn [44]\u001b[0m, in \u001b[0;36m<cell line: 3>\u001b[1;34m()\u001b[0m\n\u001b[0;32m      1\u001b[0m \u001b[38;5;124m'\u001b[39m\u001b[38;5;130;01m\\n\u001b[39;00m\u001b[38;5;124m너도 날 좋아할 줄은 몰랐어\u001b[39m\u001b[38;5;130;01m\\n\u001b[39;00m\u001b[38;5;124m어쩌면 좋아 너무나 좋아\u001b[39m\u001b[38;5;130;01m\\n\u001b[39;00m\u001b[38;5;124m꿈만 같아서 나 내 자신을 자꾸 꼬집어봐\u001b[39m\u001b[38;5;130;01m\\n\u001b[39;00m\u001b[38;5;124m너무나 좋아 니가 날 혹시 안 좋아할까 봐\u001b[39m\u001b[38;5;130;01m\\n\u001b[39;00m\u001b[38;5;124m혼자 얼마나 애태운 지 몰라\u001b[39m\u001b[38;5;130;01m\\n\u001b[39;00m\u001b[38;5;124m그런데 너도 날 사랑한다니\u001b[39m\u001b[38;5;130;01m\\n\u001b[39;00m\u001b[38;5;124m어머나 다시 한 번 말해봐\u001b[39m\u001b[38;5;130;01m\\n\u001b[39;00m\u001b[38;5;130;01m\\n\u001b[39;00m\u001b[38;5;124mTell me, tell me, tell tell tell tell tell tell me\u001b[39m\u001b[38;5;130;01m\\n\u001b[39;00m\u001b[38;5;124m나를 사랑한다고 날 기다려왔다고\u001b[39m\u001b[38;5;130;01m\\n\u001b[39;00m\u001b[38;5;124mTell me, tell me, tell tell tell tell tell tell me\u001b[39m\u001b[38;5;130;01m\\n\u001b[39;00m\u001b[38;5;124m내가 필요하다 말해 말해줘요\u001b[39m\u001b[38;5;130;01m\\n\u001b[39;00m\u001b[38;5;124mTell me tell me, tell tell tell tell tell tell me\u001b[39m\u001b[38;5;130;01m\\n\u001b[39;00m\u001b[38;5;124m자꾸만 듣고 싶어 계속 내게 말해줘\u001b[39m\u001b[38;5;130;01m\\n\u001b[39;00m\u001b[38;5;124mTell me, tell me, tell tell tell tell tell tell me\u001b[39m\u001b[38;5;130;01m\\n\u001b[39;00m\u001b[38;5;124m꿈이 아니라고 말해 말해줘요\u001b[39m\u001b[38;5;130;01m\\n\u001b[39;00m\u001b[38;5;130;01m\\n\u001b[39;00m\u001b[38;5;124m어쩜 내 가슴이 이렇게 뛰니\u001b[39m\u001b[38;5;130;01m\\n\u001b[39;00m\u001b[38;5;124m가슴이 정말 터질 것 같아 니가 날 볼 때면\u001b[39m\u001b[38;5;130;01m\\n\u001b[39;00m\u001b[38;5;124m전기에 감전된 사람처럼 전기가 올라\u001b[39m\u001b[38;5;130;01m\\n\u001b[39;00m\u001b[38;5;130;01m\\n\u001b[39;00m\u001b[38;5;124m얼마나 오래 기다린 지 몰라\u001b[39m\u001b[38;5;130;01m\\n\u001b[39;00m\u001b[38;5;124m얼마나 오래 꿈 꿨는지 몰라\u001b[39m\u001b[38;5;130;01m\\n\u001b[39;00m\u001b[38;5;124m그런데 너도 날 사랑한다니\u001b[39m\u001b[38;5;130;01m\\n\u001b[39;00m\u001b[38;5;124m어머나 다시 한 번 말해봐\u001b[39m\u001b[38;5;130;01m\\n\u001b[39;00m\u001b[38;5;130;01m\\n\u001b[39;00m\u001b[38;5;124mTell me, tell me, tell tell tell tell tell tell me\u001b[39m\u001b[38;5;130;01m\\n\u001b[39;00m\u001b[38;5;124m나를 사랑한다고 날 기다려왔다고\u001b[39m\u001b[38;5;130;01m\\n\u001b[39;00m\u001b[38;5;124mTell me, tell me, tell tell tell tell tell tell me\u001b[39m\u001b[38;5;130;01m\\n\u001b[39;00m\u001b[38;5;124m내가 필요하다 말해 말해줘요\u001b[39m\u001b[38;5;130;01m\\n\u001b[39;00m\u001b[38;5;124mTell me tell me, tell tell tell tell tell tell me\u001b[39m\u001b[38;5;130;01m\\n\u001b[39;00m\u001b[38;5;124m자꾸만 듣고 싶어 계속 내게 말해줘\u001b[39m\u001b[38;5;130;01m\\n\u001b[39;00m\u001b[38;5;124mTell me, tell me, tell tell tell tell tell tell me\u001b[39m\u001b[38;5;130;01m\\n\u001b[39;00m\u001b[38;5;124m꿈이 아니라고 말해 말해줘요\u001b[39m\u001b[38;5;130;01m\\n\u001b[39;00m\u001b[38;5;130;01m\\n\u001b[39;00m\u001b[38;5;124m♬\u001b[39m\u001b[38;5;130;01m\\n\u001b[39;00m\u001b[38;5;130;01m\\n\u001b[39;00m\u001b[38;5;124mTell me, tell me, tell me you want me\u001b[39m\u001b[38;5;130;01m\\n\u001b[39;00m\u001b[38;5;124mwant me, want me too. Tell me, tell me\u001b[39m\u001b[38;5;130;01m\\n\u001b[39;00m\u001b[38;5;124mtell me you love me too, love me too.\u001b[39m\u001b[38;5;130;01m\\n\u001b[39;00m\u001b[38;5;130;01m\\n\u001b[39;00m\u001b[38;5;124mHit me one time baby 다시 한번\u001b[39m\u001b[38;5;130;01m\\n\u001b[39;00m\u001b[38;5;124mOkay 방금한 건 알지만 또 한번\u001b[39m\u001b[38;5;130;01m\\n\u001b[39;00m\u001b[38;5;124m예 계속 말해줘 들어도 들어도 듣고 싶어\u001b[39m\u001b[38;5;130;01m\\n\u001b[39;00m\u001b[38;5;124m어쩜 이런 일이 꿈인가 싶어\u001b[39m\u001b[38;5;130;01m\\n\u001b[39;00m\u001b[38;5;124m어머나 좋아서 어쩌나 Baby baby\u001b[39m\u001b[38;5;130;01m\\n\u001b[39;00m\u001b[38;5;130;01m\\n\u001b[39;00m\u001b[38;5;124mTell me, tell me, tell tell tell tell tell tell me\u001b[39m\u001b[38;5;130;01m\\n\u001b[39;00m\u001b[38;5;124m나를 사랑한다고 날 기다려왔다고\u001b[39m\u001b[38;5;130;01m\\n\u001b[39;00m\u001b[38;5;124mTell me, tell me, tell tell tell tell tell tell me\u001b[39m\u001b[38;5;130;01m\\n\u001b[39;00m\u001b[38;5;124m내가 필요하다 말해 말해줘요\u001b[39m\u001b[38;5;130;01m\\n\u001b[39;00m\u001b[38;5;124mTell me tell me, tell tell tell tell tell tell me\u001b[39m\u001b[38;5;130;01m\\n\u001b[39;00m\u001b[38;5;124m자꾸만 듣고 싶어 계속 내게 말해줘\u001b[39m\u001b[38;5;130;01m\\n\u001b[39;00m\u001b[38;5;124mTell me, tell me, tell tell tell tell tell tell me\u001b[39m\u001b[38;5;130;01m\\n\u001b[39;00m\u001b[38;5;124m꿈이 아니라고 말해 말해줘요\u001b[39m\u001b[38;5;130;01m\\n\u001b[39;00m\u001b[38;5;124mTell me, tell me, tell tell tell tell tell tell me\u001b[39m\u001b[38;5;130;01m\\n\u001b[39;00m\u001b[38;5;124m'\u001b[39m\n\u001b[1;32m----> 3\u001b[0m \u001b[38;5;28;01mif\u001b[39;00m \u001b[38;5;124m\"\u001b[39m\u001b[38;5;124mtell me\u001b[39m\u001b[38;5;124m\"\u001b[39m \u001b[38;5;129;01min\u001b[39;00m \u001b[43mlyrics\u001b[49m:\n\u001b[0;32m      4\u001b[0m     \u001b[38;5;28mprint\u001b[39m (\u001b[38;5;124m\"\u001b[39m\u001b[38;5;124m가사에 tell me 가 포함되어 있습니다.\u001b[39m\u001b[38;5;124m\"\u001b[39m)\n",
      "\u001b[1;31mNameError\u001b[0m: name 'lyrics' is not defined"
     ]
    }
   ],
   "source": [
    "'\\n너도 날 좋아할 줄은 몰랐어\\n어쩌면 좋아 너무나 좋아\\n꿈만 같아서 나 내 자신을 자꾸 꼬집어봐\\n너무나 좋아 니가 날 혹시 안 좋아할까 봐\\n혼자 얼마나 애태운 지 몰라\\n그런데 너도 날 사랑한다니\\n어머나 다시 한 번 말해봐\\n\\nTell me, tell me, tell tell tell tell tell tell me\\n나를 사랑한다고 날 기다려왔다고\\nTell me, tell me, tell tell tell tell tell tell me\\n내가 필요하다 말해 말해줘요\\nTell me tell me, tell tell tell tell tell tell me\\n자꾸만 듣고 싶어 계속 내게 말해줘\\nTell me, tell me, tell tell tell tell tell tell me\\n꿈이 아니라고 말해 말해줘요\\n\\n어쩜 내 가슴이 이렇게 뛰니\\n가슴이 정말 터질 것 같아 니가 날 볼 때면\\n전기에 감전된 사람처럼 전기가 올라\\n\\n얼마나 오래 기다린 지 몰라\\n얼마나 오래 꿈 꿨는지 몰라\\n그런데 너도 날 사랑한다니\\n어머나 다시 한 번 말해봐\\n\\nTell me, tell me, tell tell tell tell tell tell me\\n나를 사랑한다고 날 기다려왔다고\\nTell me, tell me, tell tell tell tell tell tell me\\n내가 필요하다 말해 말해줘요\\nTell me tell me, tell tell tell tell tell tell me\\n자꾸만 듣고 싶어 계속 내게 말해줘\\nTell me, tell me, tell tell tell tell tell tell me\\n꿈이 아니라고 말해 말해줘요\\n\\n♬\\n\\nTell me, tell me, tell me you want me\\nwant me, want me too. Tell me, tell me\\ntell me you love me too, love me too.\\n\\nHit me one time baby 다시 한번\\nOkay 방금한 건 알지만 또 한번\\n예 계속 말해줘 들어도 들어도 듣고 싶어\\n어쩜 이런 일이 꿈인가 싶어\\n어머나 좋아서 어쩌나 Baby baby\\n\\nTell me, tell me, tell tell tell tell tell tell me\\n나를 사랑한다고 날 기다려왔다고\\nTell me, tell me, tell tell tell tell tell tell me\\n내가 필요하다 말해 말해줘요\\nTell me tell me, tell tell tell tell tell tell me\\n자꾸만 듣고 싶어 계속 내게 말해줘\\nTell me, tell me, tell tell tell tell tell tell me\\n꿈이 아니라고 말해 말해줘요\\nTell me, tell me, tell tell tell tell tell tell me\\n'\n",
    "\n",
    "if \"tell me\" in lyrics:\n",
    "    print (\"가사에 tell me 가 포함되어 있습니다.\")"
   ]
  },
  {
   "cell_type": "code",
   "execution_count": 68,
   "id": "acfcc825",
   "metadata": {
    "scrolled": true
   },
   "outputs": [
    {
     "data": {
      "text/plain": [
       "'\\n너도 날 좋아할 줄은 몰랐어\\n어쩌면 좋아 너무나 좋아\\n꿈만 같아서 나 내 자신을\\n자꾸 꼬집어봐 너무나 좋아\\n니가 날 혹시 안 좋아할까봐\\n혼자 얼마나 애태운지 몰라\\n그런데 니가 날 사랑한다니\\n어머나 다시 한번 말해봐\\ntell me tell me\\ntell tell tell tell tell tell me\\n나를 사랑한다고 날 기다려왔다고\\ntell me tell me\\ntell tell tell tell tell tell me\\n내가 필요하다 말해 말해줘요\\ntell me tell me\\ntell tell tell tell tell tell me\\n자꾸만 듣고 싶어 계속 내게 말해줘\\ntell me tell me\\ntell tell tell tell tell tell me\\n꿈이 아니라고 말해 말해줘요\\n어쩜 내 가슴이 이렇게 뛰니\\n가슴이 정말 터질것 같아\\n니가 날 볼 때면 전기에\\n감전된 사람처럼 전기가 올라\\n얼마나 오래 기다린지 몰라\\n얼마나 오래 꿈 꿨는지 몰라\\n그런데 니가 날 사랑한다니\\n어머나 다시 한번 말해봐\\ntell me tell me\\ntell tell tell tell tell tell me\\n나를 사랑한다고 날 기다려왔다고\\ntell me tell me\\ntell tell tell tell tell tell me\\n내가 필요하다 말해 말해줘요\\ntell me tell me\\ntell tell tell tell tell tell me\\n자꾸만 듣고 싶어\\n계속 내게 말해줘\\ntell me tell me\\ntell tell tell tell tell tell me\\n꿈이 아니라고 말해 말해줘요\\n원더걸스\\ntell me tell me tell me you\\nwant me want me want me too\\ntell me tell me tell me you\\nlove me too love me too\\n얼마나 오래 기다린지 몰라\\n얼마나 오래 꿈 꿨는지 몰라\\n그런데 니가 날 사랑한다니\\n어머나 다시 한번 말해봐\\ntell me tell me\\ntell tell tell tell tell tell me\\n나를 사랑한다고 날 기다려왔다고\\ntell me tell me\\ntell tell tell tell tell tell me\\n내가 필요하다 말해 말해줘요\\ntell me tell me\\ntell tell tell tell tell tell me\\n자꾸만 듣고 싶어 계속 내게 말해줘\\ntell me tell me\\ntell tell tell tell tell tell me\\n꿈이 아니라고 말해 말해줘요\\ntell me tell me\\ntell tell tell tell tell tell me\\ntell tell tell tell tell tell me\\n'"
      ]
     },
     "execution_count": 68,
     "metadata": {},
     "output_type": "execute_result"
    }
   ],
   "source": [
    "lyrics.lower()"
   ]
  },
  {
   "cell_type": "code",
   "execution_count": 77,
   "id": "4e7b5f66",
   "metadata": {},
   "outputs": [],
   "source": [
    "lyrics = lyrics.replace(\"  \", \" \" )"
   ]
  },
  {
   "cell_type": "code",
   "execution_count": 78,
   "id": "3b86dd13",
   "metadata": {},
   "outputs": [
    {
     "data": {
      "text/plain": [
       "'너도 날 좋아할 줄은 몰랐어 어쩌면 좋아 너무나 좋아 꿈만 같아서 나 내 자신을 자꾸 꼬집어봐 너무나 좋아 니가 날 혹시 안 좋아할까봐 혼자 얼마나 애태운지 몰라 그런데 니가 날 사랑한다니 어머나 다시 한번 말해봐 @@@@@@@@ @@@@@@@@ tell tell tell tell tell @@@@@@@@ 나를 사랑한다고 날 기다려왔다고 @@@@@@@@ @@@@@@@@ tell tell tell tell tell @@@@@@@@ 내가 필요하다 말해 말해줘요 @@@@@@@@ @@@@@@@@ tell tell tell tell tell @@@@@@@@ 자꾸만 듣고 싶어 계속 내게 말해줘 @@@@@@@@ @@@@@@@@ tell tell tell tell tell @@@@@@@@ 꿈이 아니라고 말해 말해줘요 어쩜 내 가슴이 이렇게 뛰니 가슴이 정말 터질것 같아 니가 날 볼 때면 전기에 감전된 사람처럼 전기가 올라 얼마나 오래 기다린지 몰라 얼마나 오래 꿈 꿨는지 몰라 그런데 니가 날 사랑한다니 어머나 다시 한번 말해봐 @@@@@@@@ @@@@@@@@ tell tell tell tell tell @@@@@@@@ 나를 사랑한다고 날 기다려왔다고 @@@@@@@@ @@@@@@@@ tell tell tell tell tell @@@@@@@@ 내가 필요하다 말해 말해줘요 @@@@@@@@ @@@@@@@@ tell tell tell tell tell @@@@@@@@ 자꾸만 듣고 싶어 계속 내게 말해줘 @@@@@@@@ @@@@@@@@ tell tell tell tell tell @@@@@@@@ 꿈이 아니라고 말해 말해줘요 원더걸스 @@@@@@@@ @@@@@@@@ @@@@@@@@ you want me want me want me too @@@@@@@@ @@@@@@@@ @@@@@@@@ you love me too love me too 얼마나 오래 기다린지 몰라 얼마나 오래 꿈 꿨는지 몰라 그런데 니가 날 사랑한다니 어머나 다시 한번 말해봐 @@@@@@@@ @@@@@@@@ tell tell tell tell tell @@@@@@@@ 나를 사랑한다고 날 기다려왔다고 @@@@@@@@ @@@@@@@@ tell tell tell tell tell @@@@@@@@ 내가 필요하다 말해 말해줘요 @@@@@@@@ @@@@@@@@ tell tell tell tell tell @@@@@@@@ 자꾸만 듣고 싶어 계속 내게 말해줘 @@@@@@@@ @@@@@@@@ tell tell tell tell tell @@@@@@@@ 꿈이 아니라고 말해 말해줘요 @@@@@@@@ @@@@@@@@ tell tell tell tell tell @@@@@@@@ tell tell tell tell tell @@@@@@@@'"
      ]
     },
     "execution_count": 78,
     "metadata": {},
     "output_type": "execute_result"
    }
   ],
   "source": [
    "lyrics[1:-1]"
   ]
  },
  {
   "cell_type": "markdown",
   "id": "b3d4c2a1",
   "metadata": {},
   "source": [
    "### 리스트, 튜플\n",
    "\n",
    "- 문자열에서 원소를 추가하거나 빼거나 교체하는거"
   ]
  },
  {
   "cell_type": "markdown",
   "id": "71e67bf9",
   "metadata": {},
   "source": [
    "#### 데이터 추가\n",
    "\n",
    "1. 문자열 : 덧셈 연산\n",
    "2. 리스트 : append, insert   (append 리스트 끝에만, insert는 순서 지정 가능)"
   ]
  },
  {
   "cell_type": "code",
   "execution_count": 81,
   "id": "f3a165c8",
   "metadata": {},
   "outputs": [
    {
     "data": {
      "text/plain": [
       "'짜장면, 짬뽕, 탕수육, 군만두'"
      ]
     },
     "execution_count": 81,
     "metadata": {},
     "output_type": "execute_result"
    }
   ],
   "source": [
    "menu = \"짜장면, 짬뽕, 탕수육\"\n",
    "menu = menu + \", 군만두\"\n",
    "menu"
   ]
  },
  {
   "cell_type": "code",
   "execution_count": 80,
   "id": "e21de4fe",
   "metadata": {
    "scrolled": true
   },
   "outputs": [
    {
     "ename": "AttributeError",
     "evalue": "'str' object has no attribute 'append'",
     "output_type": "error",
     "traceback": [
      "\u001b[1;31m---------------------------------------------------------------------------\u001b[0m",
      "\u001b[1;31mAttributeError\u001b[0m                            Traceback (most recent call last)",
      "Input \u001b[1;32mIn [80]\u001b[0m, in \u001b[0;36m<cell line: 1>\u001b[1;34m()\u001b[0m\n\u001b[1;32m----> 1\u001b[0m \u001b[43mmenu\u001b[49m\u001b[38;5;241;43m.\u001b[39;49m\u001b[43mappend\u001b[49m[\u001b[38;5;124m\"\u001b[39m\u001b[38;5;124m군만두\u001b[39m\u001b[38;5;124m\"\u001b[39m]\n",
      "\u001b[1;31mAttributeError\u001b[0m: 'str' object has no attribute 'append'"
     ]
    }
   ],
   "source": [
    "menu.append[\"군만두\"]"
   ]
  },
  {
   "cell_type": "code",
   "execution_count": 82,
   "id": "874009f1",
   "metadata": {},
   "outputs": [
    {
     "data": {
      "text/plain": [
       "['짜장면, 짬뽕, 탕수육', '군만두']"
      ]
     },
     "execution_count": 82,
     "metadata": {},
     "output_type": "execute_result"
    }
   ],
   "source": [
    "menu = [\"짜장면, 짬뽕, 탕수육\"]\n",
    "menu.append(\"군만두\")\n",
    "menu"
   ]
  },
  {
   "cell_type": "code",
   "execution_count": 86,
   "id": "11365324",
   "metadata": {},
   "outputs": [
    {
     "data": {
      "text/plain": [
       "['짜장면, 짬뽕, 탕수육', '팔보채', '팔보채', '팔보채', '군만두']"
      ]
     },
     "execution_count": 86,
     "metadata": {},
     "output_type": "execute_result"
    }
   ],
   "source": [
    "menu.insert(1, \"팔보채\")\n",
    "menu"
   ]
  },
  {
   "cell_type": "code",
   "execution_count": 89,
   "id": "e4373565",
   "metadata": {},
   "outputs": [
    {
     "data": {
      "text/plain": [
       "['짜장면, 짬뽕, 탕수육', '팔보채', '팔보채', '팔보채', '팔보채', '팔보채', '군만두']"
      ]
     },
     "execution_count": 89,
     "metadata": {},
     "output_type": "execute_result"
    }
   ],
   "source": [
    "menu.insert(1, \"팔보채\")\n",
    "menu"
   ]
  },
  {
   "cell_type": "markdown",
   "id": "c031ce57",
   "metadata": {},
   "source": [
    "#### 데이터 제거\n",
    "\n",
    "1. 문자열 : replace \n",
    "2. 리스트 : del, remove, pop\n",
    "\n",
    "pop은 append의 반대라 마지막 것 지움"
   ]
  },
  {
   "cell_type": "code",
   "execution_count": 92,
   "id": "8594d7a8",
   "metadata": {},
   "outputs": [
    {
     "data": {
      "text/plain": [
       "'짜장면, 짬뽕, 탕수육'"
      ]
     },
     "execution_count": 92,
     "metadata": {},
     "output_type": "execute_result"
    }
   ],
   "source": [
    "menu = \"짜장면, 짬뽕, 탕수육, 군만두\"\n",
    "menu = menu.replace(\", 군만두\", \"\")\n",
    "menu"
   ]
  },
  {
   "cell_type": "code",
   "execution_count": 94,
   "id": "7c108cb7",
   "metadata": {},
   "outputs": [
    {
     "data": {
      "text/plain": [
       "['짜장면', '짬뽕', '탕수육']"
      ]
     },
     "execution_count": 94,
     "metadata": {},
     "output_type": "execute_result"
    }
   ],
   "source": [
    "menu = [\"짜장면\", \"짬뽕\", \"탕수육\", \"군만두\"]\n",
    "del menu[3] \n",
    "menu"
   ]
  },
  {
   "cell_type": "code",
   "execution_count": 97,
   "id": "5b2fadbd",
   "metadata": {},
   "outputs": [
    {
     "data": {
      "text/plain": [
       "['짬뽕']"
      ]
     },
     "execution_count": 97,
     "metadata": {},
     "output_type": "execute_result"
    }
   ],
   "source": [
    "menu.remove(\"짜장면\")\n",
    "menu"
   ]
  },
  {
   "cell_type": "code",
   "execution_count": 98,
   "id": "9dada932",
   "metadata": {},
   "outputs": [
    {
     "data": {
      "text/plain": [
       "[]"
      ]
     },
     "execution_count": 98,
     "metadata": {},
     "output_type": "execute_result"
    }
   ],
   "source": [
    "menu.pop()\n",
    "menu"
   ]
  },
  {
   "cell_type": "markdown",
   "id": "73e3a529",
   "metadata": {},
   "source": [
    "#### 데이터 교체\n",
    "\n",
    "- 1. 문자열 : replace\n",
    "- 2. 리스트 : 딱히 함수 X"
   ]
  },
  {
   "cell_type": "code",
   "execution_count": 99,
   "id": "8e992b12",
   "metadata": {},
   "outputs": [
    {
     "data": {
      "text/plain": [
       "'짜장면, 짬뽕, 탕수육, 팔보채'"
      ]
     },
     "execution_count": 99,
     "metadata": {},
     "output_type": "execute_result"
    }
   ],
   "source": [
    "menu = \"짜장면, 짬뽕, 탕수육, 군만두\"\n",
    "menu = menu.replace(\"군만두\", \"팔보채\")\n",
    "menu"
   ]
  },
  {
   "cell_type": "code",
   "execution_count": 103,
   "id": "356e20a6",
   "metadata": {
    "scrolled": true
   },
   "outputs": [
    {
     "data": {
      "text/plain": [
       "['짜장면', '유산슬', '탕수육', '군만두', '팔보채']"
      ]
     },
     "execution_count": 103,
     "metadata": {},
     "output_type": "execute_result"
    }
   ],
   "source": [
    "menu = [\"짜장면\", \"짬뽕\", \"탕수육\", \"군만두\", \"팔보채\"]\n",
    "menu[1] = \"유산슬\"\n",
    "menu"
   ]
  },
  {
   "cell_type": "code",
   "execution_count": 105,
   "id": "3fdef594",
   "metadata": {},
   "outputs": [
    {
     "data": {
      "text/plain": [
       "[['mango', 'grape'], ['pineapple', 'banana', ['melon', 'watermelon']]]"
      ]
     },
     "execution_count": 105,
     "metadata": {},
     "output_type": "execute_result"
    }
   ],
   "source": [
    "fruit = [[\"mango\", \"grape\"], [\"apple\", \"banana\", [\"melon\", \"watermelon\"]]]\n",
    "fruit[1][0] = \"pineapple\"\n",
    "fruit"
   ]
  },
  {
   "cell_type": "markdown",
   "id": "f662d5fd",
   "metadata": {},
   "source": [
    "### 반복문\n",
    "\n",
    "- while 명제: (while에 대한 명제가 참인 한 블록을 실행)\n",
    "- 거짓이 되지 않으면 무한정 반복\n",
    "- while True 명제 : 별도의 조치가 없는 한 무한히 반복되는 함수\n",
    "- pass는 위 과정을 무시한다는 의미"
   ]
  },
  {
   "cell_type": "code",
   "execution_count": null,
   "id": "f8ea0c87",
   "metadata": {},
   "outputs": [],
   "source": [
    "fruit = [[\"mango\", \"grape\"], [\"apple\", \"banana\", [\"melon\", \"watermelon\"]]]"
   ]
  },
  {
   "cell_type": "code",
   "execution_count": null,
   "id": "3ff16c14",
   "metadata": {},
   "outputs": [],
   "source": [
    "while 1 < 3:\n",
    "    print()"
   ]
  },
  {
   "cell_type": "code",
   "execution_count": null,
   "id": "24bce440",
   "metadata": {},
   "outputs": [],
   "source": []
  },
  {
   "cell_type": "markdown",
   "id": "bc739e92",
   "metadata": {},
   "source": [
    "#### 무한루프를 피하는 방법\n",
    "\n",
    "- 1. 특정 조건에서 while문에 걸려 있는 명제가 거짓이 되도록 설계한다.\n",
    "- 2. break를 사용한다."
   ]
  },
  {
   "cell_type": "code",
   "execution_count": 1,
   "id": "7c55b40e",
   "metadata": {},
   "outputs": [
    {
     "name": "stdout",
     "output_type": "stream",
     "text": [
      "0\n",
      "1\n",
      "2\n"
     ]
    }
   ],
   "source": [
    "n = 0\n",
    "while n < 3:\n",
    "    print(n)\n",
    "    n = n + 1"
   ]
  },
  {
   "cell_type": "code",
   "execution_count": 2,
   "id": "c05392d8",
   "metadata": {},
   "outputs": [
    {
     "name": "stdout",
     "output_type": "stream",
     "text": [
      "0\n",
      "1\n",
      "2\n"
     ]
    }
   ],
   "source": [
    "n = 0\n",
    "while True:\n",
    "    print(n)\n",
    "    n = n + 1\n",
    "    if n >= 3:\n",
    "        break\n",
    "    else:\n",
    "        pass"
   ]
  },
  {
   "cell_type": "markdown",
   "id": "012fcd4b",
   "metadata": {},
   "source": [
    "### 1000이 넘는 최초의 43의 배수를 찾고 싶습니다."
   ]
  },
  {
   "cell_type": "code",
   "execution_count": 7,
   "id": "0c3dcce8",
   "metadata": {},
   "outputs": [
    {
     "name": "stdout",
     "output_type": "stream",
     "text": [
      "1032\n"
     ]
    }
   ],
   "source": [
    "n = 1000\n",
    "while n%43 != 0:\n",
    "    n = n + 1\n",
    "print(n)"
   ]
  },
  {
   "cell_type": "code",
   "execution_count": 12,
   "id": "48338cbb",
   "metadata": {},
   "outputs": [
    {
     "name": "stdout",
     "output_type": "stream",
     "text": [
      "1032\n"
     ]
    }
   ],
   "source": [
    "n = 1000\n",
    "while True:\n",
    "    n = n + 1\n",
    "    if n % 43 == 0:\n",
    "        print (n)\n",
    "        break\n",
    "    else:\n",
    "        pass"
   ]
  },
  {
   "cell_type": "code",
   "execution_count": 8,
   "id": "952bf1f9",
   "metadata": {},
   "outputs": [
    {
     "name": "stdout",
     "output_type": "stream",
     "text": [
      "1032\n"
     ]
    }
   ],
   "source": [
    "n = 0\n",
    "while n * 43 < 1000:\n",
    "    n = n + 1\n",
    "print(n * 43)"
   ]
  },
  {
   "cell_type": "code",
   "execution_count": 13,
   "id": "8359697c",
   "metadata": {},
   "outputs": [
    {
     "name": "stdout",
     "output_type": "stream",
     "text": [
      "1032\n"
     ]
    }
   ],
   "source": [
    "n = 0\n",
    "while True:\n",
    "    n = n + 1\n",
    "    if n * 43 >= 1000:\n",
    "        print(43*n)\n",
    "        break\n",
    "    else:\n",
    "        pass"
   ]
  },
  {
   "cell_type": "code",
   "execution_count": null,
   "id": "392ce526",
   "metadata": {},
   "outputs": [],
   "source": []
  },
  {
   "cell_type": "markdown",
   "id": "6e57ea7c",
   "metadata": {},
   "source": [
    "### 10000이 넘는 수 중에서, 가장 작은 43과 67의 공배수를 구해주세요."
   ]
  },
  {
   "cell_type": "code",
   "execution_count": 23,
   "id": "3d68c35f",
   "metadata": {},
   "outputs": [
    {
     "name": "stdout",
     "output_type": "stream",
     "text": [
      "11524\n"
     ]
    }
   ],
   "source": [
    "n = 10000\n",
    "while (n%43 != 0) or (n%67 != 0):\n",
    "    n = n + 1\n",
    "print (n)"
   ]
  },
  {
   "cell_type": "code",
   "execution_count": 25,
   "id": "48d29800",
   "metadata": {},
   "outputs": [
    {
     "name": "stdout",
     "output_type": "stream",
     "text": [
      "11524\n"
     ]
    }
   ],
   "source": [
    "n = 10000\n",
    "\n",
    "while True:\n",
    "    n = n + 1\n",
    "    \n",
    "    if (n%43) == 0 and (n % 67 == 0):\n",
    "            print(n)            \n",
    "            break\n",
    "    else:\n",
    "        pass"
   ]
  },
  {
   "cell_type": "markdown",
   "id": "ee21ea4a",
   "metadata": {},
   "source": [
    "#### for 변수 in  순서가_있는_자료형\n",
    "\n",
    "- i가 될 수 있는 것들을 리스트에 몰아준 뒤 한꺼번에 적용할 때 쓰는 것"
   ]
  },
  {
   "cell_type": "code",
   "execution_count": 26,
   "id": "d6f9b05b",
   "metadata": {},
   "outputs": [
    {
     "name": "stdout",
     "output_type": "stream",
     "text": [
      "1\n",
      "4\n",
      "9\n",
      "16\n"
     ]
    }
   ],
   "source": [
    "for i in {1, 2, 3, 4}:\n",
    "    print(i**2)"
   ]
  },
  {
   "cell_type": "markdown",
   "id": "a6c2877f",
   "metadata": {},
   "source": [
    "### 3단 구구단"
   ]
  },
  {
   "cell_type": "code",
   "execution_count": 57,
   "id": "6142b8f6",
   "metadata": {},
   "outputs": [
    {
     "name": "stdout",
     "output_type": "stream",
     "text": [
      "3 x 1 = 3\n",
      "3 x 2 = 6\n",
      "3 x 3 = 9\n",
      "3 x 4 = 12\n",
      "3 x 5 = 15\n",
      "3 x 6 = 18\n",
      "3 x 7 = 21\n",
      "3 x 8 = 24\n",
      "3 x 9 = 27\n"
     ]
    }
   ],
   "source": [
    "for i in [1, 2, 3, 4, 5, 6, 7, 8, 9]:\n",
    "    print(\"3 x {} = {}\".format(i, 3*i))"
   ]
  },
  {
   "cell_type": "code",
   "execution_count": 37,
   "id": "5bae7acc",
   "metadata": {},
   "outputs": [
    {
     "name": "stdout",
     "output_type": "stream",
     "text": [
      "Hello Python!\n",
      "Hello Python!\n",
      "Hello Python!\n",
      "Hello Python!\n",
      "Hello Python!\n",
      "Hello Python!\n",
      "Hello Python!\n",
      "Hello Python!\n",
      "Hello Python!\n"
     ]
    }
   ],
   "source": [
    "for i in range(9):\n",
    "    print(\"Hello Python!\")"
   ]
  },
  {
   "cell_type": "code",
   "execution_count": 38,
   "id": "5da86e7d",
   "metadata": {},
   "outputs": [
    {
     "data": {
      "text/plain": [
       "[1, 2, 3, 4, 5, 6, 7, 8]"
      ]
     },
     "execution_count": 38,
     "metadata": {},
     "output_type": "execute_result"
    }
   ],
   "source": [
    "list(range(1,9))"
   ]
  },
  {
   "cell_type": "code",
   "execution_count": 64,
   "id": "a6673964",
   "metadata": {
    "scrolled": true
   },
   "outputs": [
    {
     "ename": "IndexError",
     "evalue": "list index out of range",
     "output_type": "error",
     "traceback": [
      "\u001b[1;31m---------------------------------------------------------------------------\u001b[0m",
      "\u001b[1;31mIndexError\u001b[0m                                Traceback (most recent call last)",
      "Input \u001b[1;32mIn [64]\u001b[0m, in \u001b[0;36m<cell line: 5>\u001b[1;34m()\u001b[0m\n\u001b[0;32m      3\u001b[0m b \u001b[38;5;241m=\u001b[39m [\u001b[38;5;241m2\u001b[39m, \u001b[38;5;241m4\u001b[39m, \u001b[38;5;241m3\u001b[39m, \u001b[38;5;241m6\u001b[39m, \u001b[38;5;241m5\u001b[39m, \u001b[38;5;241m3\u001b[39m, \u001b[38;5;241m7\u001b[39m]\n\u001b[0;32m      5\u001b[0m \u001b[38;5;28;01mfor\u001b[39;00m i \u001b[38;5;129;01min\u001b[39;00m a:\n\u001b[1;32m----> 6\u001b[0m     \u001b[38;5;28;01mif\u001b[39;00m \u001b[43ma\u001b[49m\u001b[43m[\u001b[49m\u001b[43mi\u001b[49m\u001b[43m]\u001b[49m \u001b[38;5;241m==\u001b[39m b[i]:\n\u001b[0;32m      7\u001b[0m         n \u001b[38;5;241m=\u001b[39m n \u001b[38;5;241m+\u001b[39m \u001b[38;5;241m1\u001b[39m\n\u001b[0;32m      8\u001b[0m     \u001b[38;5;28;01melse\u001b[39;00m:\n",
      "\u001b[1;31mIndexError\u001b[0m: list index out of range"
     ]
    }
   ],
   "source": [
    "n = 0\n",
    "a = [1, 2, 3, 4, 5, 6, 7]\n",
    "b = [2, 4, 3, 6, 5, 3, 7]\n",
    "\n",
    "for i in a:\n",
    "    if a[i] == b[i]:\n",
    "        n = n + 1\n",
    "    else:\n",
    "        pass\n",
    "n"
   ]
  },
  {
   "cell_type": "code",
   "execution_count": 48,
   "id": "89e41cdb",
   "metadata": {},
   "outputs": [
    {
     "data": {
      "text/plain": [
       "7"
      ]
     },
     "execution_count": 48,
     "metadata": {},
     "output_type": "execute_result"
    }
   ],
   "source": [
    "n = 0\n",
    "a = [\"가\",\"나\",\"다\",\"라\",\"마\",\"바\",\"사\"]\n",
    "b = [\"가\",\"나\",\"다\",\"라\",\"마\",\"바\",\"사\"]\n",
    "\n",
    "for w, i in enumerate(a):\n",
    "    if i == b[w]:\n",
    "        n = n + 1\n",
    "    else:\n",
    "        pass\n",
    "n"
   ]
  },
  {
   "cell_type": "markdown",
   "id": "0628f318",
   "metadata": {},
   "source": [
    "### 구구단 뽑기"
   ]
  },
  {
   "cell_type": "code",
   "execution_count": 51,
   "id": "f1d44a0a",
   "metadata": {},
   "outputs": [
    {
     "name": "stdout",
     "output_type": "stream",
     "text": [
      "1 x 1 = 1\n",
      "1 x 2 = 2\n",
      "1 x 3 = 3\n",
      "1 x 4 = 4\n",
      "1 x 5 = 5\n",
      "1 x 6 = 6\n",
      "1 x 7 = 7\n",
      "1 x 8 = 8\n",
      "1 x 9 = 9\n",
      "2 x 1 = 2\n",
      "2 x 2 = 4\n",
      "2 x 3 = 6\n",
      "2 x 4 = 8\n",
      "2 x 5 = 10\n",
      "2 x 6 = 12\n",
      "2 x 7 = 14\n",
      "2 x 8 = 16\n",
      "2 x 9 = 18\n",
      "3 x 1 = 3\n",
      "3 x 2 = 6\n",
      "3 x 3 = 9\n",
      "3 x 4 = 12\n",
      "3 x 5 = 15\n",
      "3 x 6 = 18\n",
      "3 x 7 = 21\n",
      "3 x 8 = 24\n",
      "3 x 9 = 27\n",
      "4 x 1 = 4\n",
      "4 x 2 = 8\n",
      "4 x 3 = 12\n",
      "4 x 4 = 16\n",
      "4 x 5 = 20\n",
      "4 x 6 = 24\n",
      "4 x 7 = 28\n",
      "4 x 8 = 32\n",
      "4 x 9 = 36\n",
      "5 x 1 = 5\n",
      "5 x 2 = 10\n",
      "5 x 3 = 15\n",
      "5 x 4 = 20\n",
      "5 x 5 = 25\n",
      "5 x 6 = 30\n",
      "5 x 7 = 35\n",
      "5 x 8 = 40\n",
      "5 x 9 = 45\n",
      "6 x 1 = 6\n",
      "6 x 2 = 12\n",
      "6 x 3 = 18\n",
      "6 x 4 = 24\n",
      "6 x 5 = 30\n",
      "6 x 6 = 36\n",
      "6 x 7 = 42\n",
      "6 x 8 = 48\n",
      "6 x 9 = 54\n",
      "7 x 1 = 7\n",
      "7 x 2 = 14\n",
      "7 x 3 = 21\n",
      "7 x 4 = 28\n",
      "7 x 5 = 35\n",
      "7 x 6 = 42\n",
      "7 x 7 = 49\n",
      "7 x 8 = 56\n",
      "7 x 9 = 63\n",
      "8 x 1 = 8\n",
      "8 x 2 = 16\n",
      "8 x 3 = 24\n",
      "8 x 4 = 32\n",
      "8 x 5 = 40\n",
      "8 x 6 = 48\n",
      "8 x 7 = 56\n",
      "8 x 8 = 64\n",
      "8 x 9 = 72\n",
      "9 x 1 = 9\n",
      "9 x 2 = 18\n",
      "9 x 3 = 27\n",
      "9 x 4 = 36\n",
      "9 x 5 = 45\n",
      "9 x 6 = 54\n",
      "9 x 7 = 63\n",
      "9 x 8 = 72\n",
      "9 x 9 = 81\n"
     ]
    }
   ],
   "source": [
    "for i in [1, 2, 3, 4, 5, 6, 7, 8, 9]:\n",
    "    for w in [1, 2, 3, 4, 5, 6, 7, 8, 9]:\n",
    "        print(\"{} x {} = {}\".format(i, w, w*i))"
   ]
  },
  {
   "cell_type": "code",
   "execution_count": 58,
   "id": "b6f77399",
   "metadata": {},
   "outputs": [
    {
     "name": "stdout",
     "output_type": "stream",
     "text": [
      "\n",
      "1단 시작\n",
      "1 x 1 = 1\n",
      "1 x 2 = 2\n",
      "1 x 3 = 3\n",
      "1 x 4 = 4\n",
      "1 x 5 = 5\n",
      "1 x 6 = 6\n",
      "1 x 7 = 7\n",
      "1 x 8 = 8\n",
      "1 x 9 = 9\n",
      "-----------------\n",
      "\n",
      "2단 시작\n",
      "2 x 1 = 2\n",
      "2 x 2 = 4\n",
      "2 x 3 = 6\n",
      "2 x 4 = 8\n",
      "2 x 5 = 10\n",
      "2 x 6 = 12\n",
      "2 x 7 = 14\n",
      "2 x 8 = 16\n",
      "2 x 9 = 18\n",
      "-----------------\n",
      "\n",
      "3단 시작\n",
      "3 x 1 = 3\n",
      "3 x 2 = 6\n",
      "3 x 3 = 9\n",
      "3 x 4 = 12\n",
      "3 x 5 = 15\n",
      "3 x 6 = 18\n",
      "3 x 7 = 21\n",
      "3 x 8 = 24\n",
      "3 x 9 = 27\n",
      "-----------------\n",
      "\n",
      "4단 시작\n",
      "4 x 1 = 4\n",
      "4 x 2 = 8\n",
      "4 x 3 = 12\n",
      "4 x 4 = 16\n",
      "4 x 5 = 20\n",
      "4 x 6 = 24\n",
      "4 x 7 = 28\n",
      "4 x 8 = 32\n",
      "4 x 9 = 36\n",
      "-----------------\n",
      "\n",
      "5단 시작\n",
      "5 x 1 = 5\n",
      "5 x 2 = 10\n",
      "5 x 3 = 15\n",
      "5 x 4 = 20\n",
      "5 x 5 = 25\n",
      "5 x 6 = 30\n",
      "5 x 7 = 35\n",
      "5 x 8 = 40\n",
      "5 x 9 = 45\n",
      "-----------------\n",
      "\n",
      "6단 시작\n",
      "6 x 1 = 6\n",
      "6 x 2 = 12\n",
      "6 x 3 = 18\n",
      "6 x 4 = 24\n",
      "6 x 5 = 30\n",
      "6 x 6 = 36\n",
      "6 x 7 = 42\n",
      "6 x 8 = 48\n",
      "6 x 9 = 54\n",
      "-----------------\n",
      "\n",
      "7단 시작\n",
      "7 x 1 = 7\n",
      "7 x 2 = 14\n",
      "7 x 3 = 21\n",
      "7 x 4 = 28\n",
      "7 x 5 = 35\n",
      "7 x 6 = 42\n",
      "7 x 7 = 49\n",
      "7 x 8 = 56\n",
      "7 x 9 = 63\n",
      "-----------------\n",
      "\n",
      "8단 시작\n",
      "8 x 1 = 8\n",
      "8 x 2 = 16\n",
      "8 x 3 = 24\n",
      "8 x 4 = 32\n",
      "8 x 5 = 40\n",
      "8 x 6 = 48\n",
      "8 x 7 = 56\n",
      "8 x 8 = 64\n",
      "8 x 9 = 72\n",
      "-----------------\n",
      "\n",
      "9단 시작\n",
      "9 x 1 = 9\n",
      "9 x 2 = 18\n",
      "9 x 3 = 27\n",
      "9 x 4 = 36\n",
      "9 x 5 = 45\n",
      "9 x 6 = 54\n",
      "9 x 7 = 63\n",
      "9 x 8 = 72\n",
      "9 x 9 = 81\n",
      "-----------------\n"
     ]
    }
   ],
   "source": [
    "for i in range(1, 10):\n",
    "    print(f\"\\n{i}단 시작\")\n",
    "    for w in range(1, 10):\n",
    "        times = i * w\n",
    "        print(f\"{i} x {w} = {times}\")\n",
    "    print(\"-----------------\")"
   ]
  },
  {
   "cell_type": "markdown",
   "id": "70c8f7ad",
   "metadata": {},
   "source": [
    "### try\n",
    "\n",
    "- try문 : 에러가 날 수도 있는 코드가 에러가 나지 않을 경우에 실행될 코드\n",
    "- except문 : 에러가 날 수도 있는 코드가 에러가 났을 때 실행될 코드"
   ]
  },
  {
   "cell_type": "code",
   "execution_count": 65,
   "id": "19bfb6d3",
   "metadata": {},
   "outputs": [
    {
     "name": "stdout",
     "output_type": "stream",
     "text": [
      "0.14285714285714285\n",
      "0.16666666666666666\n",
      "0.2\n",
      "0.25\n",
      "0.3333333333333333\n",
      "0.5\n",
      "1.0\n",
      "에러가 났습니다.\n",
      "-1.0\n",
      "-0.5\n"
     ]
    }
   ],
   "source": [
    "for i in range(10):\n",
    "    try:\n",
    "        print(1/(7-i))\n",
    "    except:\n",
    "        print(\"에러가 났습니다.\")"
   ]
  },
  {
   "cell_type": "code",
   "execution_count": 72,
   "id": "58d7f4f4",
   "metadata": {},
   "outputs": [
    {
     "name": "stdout",
     "output_type": "stream",
     "text": [
      "3의 배수를 입력하세요:  65\n"
     ]
    },
    {
     "ename": "Exception",
     "evalue": "Value Error",
     "output_type": "error",
     "traceback": [
      "\u001b[1;31m---------------------------------------------------------------------------\u001b[0m",
      "\u001b[1;31mException\u001b[0m                                 Traceback (most recent call last)",
      "Input \u001b[1;32mIn [72]\u001b[0m, in \u001b[0;36m<cell line: 2>\u001b[1;34m()\u001b[0m\n\u001b[0;32m      1\u001b[0m a \u001b[38;5;241m=\u001b[39m \u001b[38;5;28mint\u001b[39m(\u001b[38;5;28minput\u001b[39m(\u001b[38;5;124m\"\u001b[39m\u001b[38;5;124m3의 배수를 입력하세요:  \u001b[39m\u001b[38;5;124m\"\u001b[39m))\n\u001b[0;32m      2\u001b[0m \u001b[38;5;28;01mif\u001b[39;00m a\u001b[38;5;241m%\u001b[39m\u001b[38;5;241m3\u001b[39m \u001b[38;5;241m!=\u001b[39m \u001b[38;5;241m0\u001b[39m:\n\u001b[1;32m----> 3\u001b[0m     \u001b[38;5;28;01mraise\u001b[39;00m \u001b[38;5;167;01mException\u001b[39;00m(\u001b[38;5;124m\"\u001b[39m\u001b[38;5;124mValue Error\u001b[39m\u001b[38;5;124m\"\u001b[39m)\n\u001b[0;32m      4\u001b[0m \u001b[38;5;28;01melse\u001b[39;00m:\n\u001b[0;32m      5\u001b[0m     \u001b[38;5;28mprint\u001b[39m(a)\n",
      "\u001b[1;31mException\u001b[0m: Value Error"
     ]
    }
   ],
   "source": [
    "a = int(input(\"3의 배수를 입력하세요:  \"))\n",
    "if a%3 != 0:\n",
    "    raise Exception(\"Value Error\")\n",
    "else:\n",
    "    print(a)"
   ]
  },
  {
   "cell_type": "code",
   "execution_count": 73,
   "id": "696a38d7",
   "metadata": {},
   "outputs": [
    {
     "ename": "SyntaxError",
     "evalue": "invalid syntax (2074097065.py, line 1)",
     "output_type": "error",
     "traceback": [
      "\u001b[1;36m  Input \u001b[1;32mIn [73]\u001b[1;36m\u001b[0m\n\u001b[1;33m    if 1 = 2:\u001b[0m\n\u001b[1;37m         ^\u001b[0m\n\u001b[1;31mSyntaxError\u001b[0m\u001b[1;31m:\u001b[0m invalid syntax\n"
     ]
    }
   ],
   "source": [
    "if 1 == 2:\n",
    "    print(6)\n",
    "else:\n",
    "    print(7)"
   ]
  },
  {
   "cell_type": "code",
   "execution_count": 74,
   "id": "f160017b",
   "metadata": {},
   "outputs": [
    {
     "ename": "IndexError",
     "evalue": "range object index out of range",
     "output_type": "error",
     "traceback": [
      "\u001b[1;31m---------------------------------------------------------------------------\u001b[0m",
      "\u001b[1;31mIndexError\u001b[0m                                Traceback (most recent call last)",
      "Input \u001b[1;32mIn [74]\u001b[0m, in \u001b[0;36m<cell line: 1>\u001b[1;34m()\u001b[0m\n\u001b[1;32m----> 1\u001b[0m a \u001b[38;5;241m=\u001b[39m \u001b[38;5;28;43mrange\u001b[39;49m\u001b[43m(\u001b[49m\u001b[38;5;241;43m10\u001b[39;49m\u001b[43m)\u001b[49m\u001b[43m[\u001b[49m\u001b[38;5;241;43m12\u001b[39;49m\u001b[43m]\u001b[49m\n",
      "\u001b[1;31mIndexError\u001b[0m: range object index out of range"
     ]
    }
   ],
   "source": [
    "a = range(10)[12]"
   ]
  },
  {
   "cell_type": "markdown",
   "id": "1f03b6cc",
   "metadata": {},
   "source": [
    "# 에러 유형\n",
    "\n",
    "- Indentation : 블록을 잘 못 맞췄을 때\n",
    "- EOF : 괄호를 제대로 안 닫았을 때\n",
    "\n",
    "### 대처법\n",
    "\n",
    "- 에러주소 복사 및 구글 검색 stack overflow\n",
    "- 데이터를 가져올 수 있는 사이트 kaggle\n",
    "- Github\n",
    "\n",
    "### 코드 공부 시 유용한 곳\n",
    "\n",
    "- 오일러프로젝트 : 난이도 별로 문제 풀이 가능"
   ]
  },
  {
   "cell_type": "markdown",
   "id": "4229cc53",
   "metadata": {},
   "source": [
    "### 딕셔너리"
   ]
  },
  {
   "cell_type": "code",
   "execution_count": 96,
   "id": "25c16d98",
   "metadata": {},
   "outputs": [
    {
     "data": {
      "text/plain": [
       "800"
      ]
     },
     "execution_count": 96,
     "metadata": {},
     "output_type": "execute_result"
    }
   ],
   "source": [
    "\n",
    "gg = {\"사과\" : 800, \"바나나\" : 1000, \"포도\" : 800}\n",
    "gg[\"사과\"]"
   ]
  },
  {
   "cell_type": "code",
   "execution_count": 97,
   "id": "189b7a8b",
   "metadata": {},
   "outputs": [
    {
     "data": {
      "text/plain": [
       "{'사과': 800, '바나나': 1000, '포도': 800, '파인애플': 1200}"
      ]
     },
     "execution_count": 97,
     "metadata": {},
     "output_type": "execute_result"
    }
   ],
   "source": [
    "gg[\"파인애플\"] = 1200\n",
    "gg"
   ]
  },
  {
   "cell_type": "code",
   "execution_count": 98,
   "id": "0924eecf",
   "metadata": {},
   "outputs": [
    {
     "data": {
      "text/plain": [
       "{'사과': 800, '바나나': 1000, '포도': 800}"
      ]
     },
     "execution_count": 98,
     "metadata": {},
     "output_type": "execute_result"
    }
   ],
   "source": [
    "del gg[\"파인애플\"]\n",
    "gg"
   ]
  },
  {
   "cell_type": "code",
   "execution_count": 99,
   "id": "5aab88f9",
   "metadata": {},
   "outputs": [
    {
     "name": "stdout",
     "output_type": "stream",
     "text": [
      "사과\n",
      "바나나\n",
      "포도\n"
     ]
    }
   ],
   "source": [
    "for i in gg:\n",
    "    print(i)"
   ]
  },
  {
   "cell_type": "code",
   "execution_count": 100,
   "id": "77e55e7f",
   "metadata": {},
   "outputs": [
    {
     "data": {
      "text/plain": [
       "dict_keys(['사과', '바나나', '포도'])"
      ]
     },
     "execution_count": 100,
     "metadata": {},
     "output_type": "execute_result"
    }
   ],
   "source": [
    "gg.keys()"
   ]
  },
  {
   "cell_type": "code",
   "execution_count": 101,
   "id": "da0fa192",
   "metadata": {},
   "outputs": [
    {
     "data": {
      "text/plain": [
       "dict_values([800, 1000, 800])"
      ]
     },
     "execution_count": 101,
     "metadata": {},
     "output_type": "execute_result"
    }
   ],
   "source": [
    "gg.values()"
   ]
  },
  {
   "cell_type": "code",
   "execution_count": 102,
   "id": "40dd1d87",
   "metadata": {},
   "outputs": [
    {
     "data": {
      "text/plain": [
       "{'사과': 800, '바나나': 1000, '포도': 800}"
      ]
     },
     "execution_count": 102,
     "metadata": {},
     "output_type": "execute_result"
    }
   ],
   "source": [
    "gg"
   ]
  },
  {
   "cell_type": "code",
   "execution_count": 112,
   "id": "3c86cfc0",
   "metadata": {},
   "outputs": [
    {
     "data": {
      "text/plain": [
       "{'사과': 1064, '바나나': 1331, '포도': 1064}"
      ]
     },
     "execution_count": 112,
     "metadata": {},
     "output_type": "execute_result"
    }
   ],
   "source": [
    "for i in gg:\n",
    "    gg[i] = int(gg[i] * 1.1)\n",
    "gg"
   ]
  },
  {
   "cell_type": "markdown",
   "id": "35b2b8fc",
   "metadata": {},
   "source": [
    "### 전국 사과 가격의 평균을 구해주세요."
   ]
  },
  {
   "cell_type": "code",
   "execution_count": 114,
   "id": "071eb16a",
   "metadata": {},
   "outputs": [],
   "source": [
    "ggg = {\"서울점\" : {\"사과\" : 800, \"바나나\" : 1000, \"포도\" : 800}, \n",
    "       \"부산점\" : {\"사과\" : 700, \"바나나\" : 900, \"포도\" : 900},\n",
    "       \"대구점\" : {\"사과\" : 750, \"바나나\" : 800, \"포도\" : 1000}}"
   ]
  },
  {
   "cell_type": "code",
   "execution_count": 132,
   "id": "cb8437cb",
   "metadata": {},
   "outputs": [
    {
     "name": "stdout",
     "output_type": "stream",
     "text": [
      "750\n"
     ]
    }
   ],
   "source": [
    "n = 0\n",
    "for i in ggg:\n",
    "    n = n + ggg[i][\"사과\"]\n",
    "print(int(n/len(ggg)))"
   ]
  },
  {
   "cell_type": "markdown",
   "id": "abf69b9d",
   "metadata": {},
   "source": [
    "### define 함수"
   ]
  },
  {
   "cell_type": "code",
   "execution_count": 133,
   "id": "dd5a953d",
   "metadata": {},
   "outputs": [],
   "source": [
    "def add(x, y):\n",
    "    return x + y"
   ]
  },
  {
   "cell_type": "code",
   "execution_count": 134,
   "id": "8b9100b5",
   "metadata": {},
   "outputs": [
    {
     "data": {
      "text/plain": [
       "5"
      ]
     },
     "execution_count": 134,
     "metadata": {},
     "output_type": "execute_result"
    }
   ],
   "source": [
    "add(2,3)"
   ]
  },
  {
   "cell_type": "code",
   "execution_count": null,
   "id": "993f9f86",
   "metadata": {},
   "outputs": [],
   "source": []
  }
 ],
 "metadata": {
  "kernelspec": {
   "display_name": "Python 3 (ipykernel)",
   "language": "python",
   "name": "python3"
  },
  "language_info": {
   "codemirror_mode": {
    "name": "ipython",
    "version": 3
   },
   "file_extension": ".py",
   "mimetype": "text/x-python",
   "name": "python",
   "nbconvert_exporter": "python",
   "pygments_lexer": "ipython3",
   "version": "3.9.12"
  }
 },
 "nbformat": 4,
 "nbformat_minor": 5
}
