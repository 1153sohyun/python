{
 "cells": [
  {
   "cell_type": "code",
   "execution_count": 2,
   "id": "a0554081",
   "metadata": {},
   "outputs": [
    {
     "name": "stdout",
     "output_type": "stream",
     "text": [
      "내가 가진 돈: 2000\n",
      "버스를 타고 가자.\n",
      "우와 집이다!\n"
     ]
    }
   ],
   "source": [
    "money = int(input(\"내가 가진 돈: \"))\n",
    "\n",
    "if money >= 4000 and money < 100000:\n",
    "    print(\"택시를 타고 가자.\")\n",
    "    \n",
    "elif money >= 1300 and money < 4000:\n",
    "    print(\"걸어 가자.\")\n",
    "\n",
    "elif money >= 100000:\n",
    "    print(\"리무진을 타고 가자.\")\n",
    "    \n",
    "else:\n",
    "    print(\"버스를 타고 가자.\")\n",
    "    \n",
    "print(\"우와 집이다!\")"
   ]
  },
  {
   "cell_type": "code",
   "execution_count": 4,
   "id": "5f8a177c",
   "metadata": {},
   "outputs": [
    {
     "name": "stdout",
     "output_type": "stream",
     "text": [
      "숫자: 6\n",
      "3의 배수입니다.\n"
     ]
    }
   ],
   "source": [
    "num = int(input(\"숫자: \"))\n",
    "\n",
    "if num%3 == 0:\n",
    "    print(\"3의 배수입니다.\")\n",
    "else:\n",
    "    print(\"3의 배수가 아닙니다.\")"
   ]
  },
  {
   "cell_type": "code",
   "execution_count": 2,
   "id": "f4b44d21",
   "metadata": {},
   "outputs": [
    {
     "name": "stdout",
     "output_type": "stream",
     "text": [
      "추석 선물 세트를 몇 개 구매했는가?: 12\n",
      "118000\n"
     ]
    }
   ],
   "source": [
    "num = int(input(\"추석 선물 세트를 몇 개 구매했는가?: \"))\n",
    "\n",
    "gift_price = 10000\n",
    "\n",
    "if num <= 10:\n",
    "    price = num * gift_price\n",
    "\n",
    "else:\n",
    "    price = num * gift_price - ((num - 10)*gift_price*0.1)\n",
    "    \n",
    "print(int(price))"
   ]
  },
  {
   "cell_type": "code",
   "execution_count": null,
   "id": "319ab133",
   "metadata": {},
   "outputs": [],
   "source": []
  }
 ],
 "metadata": {
  "kernelspec": {
   "display_name": "Python 3 (ipykernel)",
   "language": "python",
   "name": "python3"
  },
  "language_info": {
   "codemirror_mode": {
    "name": "ipython",
    "version": 3
   },
   "file_extension": ".py",
   "mimetype": "text/x-python",
   "name": "python",
   "nbconvert_exporter": "python",
   "pygments_lexer": "ipython3",
   "version": "3.9.12"
  }
 },
 "nbformat": 4,
 "nbformat_minor": 5
}
